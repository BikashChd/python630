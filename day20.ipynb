{
 "cells": [
  {
   "cell_type": "markdown",
   "metadata": {},
   "source": [
    "# Ashar 28.2079\n",
    "Encapsulation in python "
   ]
  },
  {
   "cell_type": "code",
   "execution_count": 3,
   "metadata": {},
   "outputs": [
    {
     "name": "stdout",
     "output_type": "stream",
     "text": [
      "Bikash\n",
      "23\n",
      "Surkhet\n"
     ]
    }
   ],
   "source": [
    "#  public members\n",
    "class Info:\n",
    "    def __init__(self,name,age,address):\n",
    "        self.name=name\n",
    "        self.age=age\n",
    "        self.address=address\n",
    "\n",
    "obj=Info(\"Bikash\",23,\"Surkhet\")\n",
    "print(obj.name)\n",
    "print(obj.age)\n",
    "print(obj.address)"
   ]
  },
  {
   "cell_type": "code",
   "execution_count": 5,
   "metadata": {},
   "outputs": [
    {
     "name": "stdout",
     "output_type": "stream",
     "text": [
      "Bikash\n",
      "23\n",
      "Surkhet\n"
     ]
    }
   ],
   "source": [
    "# protected members\n",
    "class Info:\n",
    "    def __init__(self,name,age,address):\n",
    "        self._name=name     #making protected member by putting underscore after self\n",
    "        self._age=age\n",
    "        self._address=address\n",
    "\n",
    "obj=Info(\"Bikash\",23,\"Surkhet\")\n",
    "print(obj._name)\n",
    "print(obj._age)\n",
    "print(obj._address)"
   ]
  },
  {
   "cell_type": "code",
   "execution_count": 9,
   "metadata": {},
   "outputs": [
    {
     "ename": "AttributeError",
     "evalue": "'Info' object has no attribute '__name'",
     "output_type": "error",
     "traceback": [
      "\u001b[0;31m---------------------------------------------------------------------------\u001b[0m",
      "\u001b[0;31mAttributeError\u001b[0m                            Traceback (most recent call last)",
      "\u001b[1;32m/media/bikash/201A4BFD1A4BCE8A/BroadwayInfosys/PythonWithAI/day20.ipynb Cell 4'\u001b[0m in \u001b[0;36m<cell line: 9>\u001b[0;34m()\u001b[0m\n\u001b[1;32m      <a href='vscode-notebook-cell:/media/bikash/201A4BFD1A4BCE8A/BroadwayInfosys/PythonWithAI/day20.ipynb#ch0000004?line=5'>6</a>\u001b[0m         \u001b[39mself\u001b[39m\u001b[39m.\u001b[39m__address\u001b[39m=\u001b[39maddress\n\u001b[1;32m      <a href='vscode-notebook-cell:/media/bikash/201A4BFD1A4BCE8A/BroadwayInfosys/PythonWithAI/day20.ipynb#ch0000004?line=7'>8</a>\u001b[0m obj\u001b[39m=\u001b[39mInfo(\u001b[39m\"\u001b[39m\u001b[39mBikash\u001b[39m\u001b[39m\"\u001b[39m,\u001b[39m23\u001b[39m,\u001b[39m\"\u001b[39m\u001b[39mSurkhet\u001b[39m\u001b[39m\"\u001b[39m)\n\u001b[0;32m----> <a href='vscode-notebook-cell:/media/bikash/201A4BFD1A4BCE8A/BroadwayInfosys/PythonWithAI/day20.ipynb#ch0000004?line=8'>9</a>\u001b[0m \u001b[39mprint\u001b[39m(obj\u001b[39m.\u001b[39;49m__name)\n\u001b[1;32m     <a href='vscode-notebook-cell:/media/bikash/201A4BFD1A4BCE8A/BroadwayInfosys/PythonWithAI/day20.ipynb#ch0000004?line=9'>10</a>\u001b[0m \u001b[39mprint\u001b[39m(obj\u001b[39m.\u001b[39m__age)\n\u001b[1;32m     <a href='vscode-notebook-cell:/media/bikash/201A4BFD1A4BCE8A/BroadwayInfosys/PythonWithAI/day20.ipynb#ch0000004?line=10'>11</a>\u001b[0m \u001b[39mprint\u001b[39m(obj\u001b[39m.\u001b[39m__address)\n",
      "\u001b[0;31mAttributeError\u001b[0m: 'Info' object has no attribute '__name'"
     ]
    }
   ],
   "source": [
    "# private members\n",
    "class Info:\n",
    "    def __init__(self,name,age,address):\n",
    "        self.__name=name        #to make private variable we put two __ after self and befor varaible name\n",
    "        self.__age=age\n",
    "        self.__address=address\n",
    "\n",
    "obj=Info(\"Bikash\",23,\"Surkhet\")\n",
    "print(obj.__name)\n",
    "print(obj.__age)\n",
    "print(obj.__address)"
   ]
  },
  {
   "cell_type": "code",
   "execution_count": null,
   "metadata": {},
   "outputs": [],
   "source": [
    "# name memmling ->accessing private member of the class by name memmling\n",
    "class Info:\n",
    "    def __init__(self,name,age,address):\n",
    "        self.__name=name        #to make private variable we put two __ after self and befor varaible name\n",
    "        self.__age=age\n",
    "        self.__address=address\n",
    "\n",
    "obj=Info(\"Bikash\",23,\"Surkhet\")\n",
    "print(obj._Info__name)\n",
    "print(obj._Info__age)\n",
    "print(obj._Info__address)"
   ]
  },
  {
   "cell_type": "code",
   "execution_count": 16,
   "metadata": {},
   "outputs": [
    {
     "name": "stdout",
     "output_type": "stream",
     "text": [
      "Hello World, I am RAm.I live in Surkhet. I am 45 years old\n"
     ]
    }
   ],
   "source": [
    "class A:\n",
    "    def __init__(self,add):\n",
    "        self._add=add       #protected member\n",
    "    # def names(self):\n",
    "    #     print(self.name)\n",
    "\n",
    "class B:\n",
    "    def __init__(self,age):\n",
    "        self._age=age           #protectd member\n",
    "class C(B,A):\n",
    "    def __init__(self,name,age,add):\n",
    "        self.__name=name        #private member\n",
    "        B.__init__(self,age)\n",
    "        A.__init__(self,add)\n",
    "\n",
    "    def info(self):\n",
    "        print(f\"Hello World, I am {self.__name} .I live in {self._add}. I am {self._age} years old\")\n",
    "\n",
    "obj=C(\"RAm\",45,\"Surkhet\")\n",
    "obj.info()\n",
    "# obj.names()\n"
   ]
  },
  {
   "cell_type": "code",
   "execution_count": 18,
   "metadata": {},
   "outputs": [
    {
     "name": "stdout",
     "output_type": "stream",
     "text": [
      "Hello world. I am RAm\n",
      "Hello world. I am 30\n"
     ]
    }
   ],
   "source": [
    "# super()-> this function is used to access the member of the super class\n",
    "\n",
    "class A:\n",
    "    def __init__(self,name,age):\n",
    "        self._name=name\n",
    "        self.__age=age\n",
    "    def a(self):\n",
    "        print(f\"Hello world. I am {self.__age}\")\n",
    "\n",
    "class B(A):\n",
    "    def info(self):\n",
    "        data=f\"Hello world. I am {self._name}\"\n",
    "        print(data)\n",
    "        super().a()             # super function can also access the private member of the suepr class\n",
    "\n",
    "obj=B(\"RAm\",30)\n",
    "obj.info()\n"
   ]
  },
  {
   "cell_type": "markdown",
   "metadata": {},
   "source": [
    "# Operator Overloading in python"
   ]
  },
  {
   "cell_type": "code",
   "execution_count": 22,
   "metadata": {},
   "outputs": [
    {
     "name": "stdout",
     "output_type": "stream",
     "text": [
      "This is init method\n",
      "This is init method\n",
      "This is add methog\n",
      "This is init method\n",
      "This is str methof\n",
      "((1, 5))\n"
     ]
    }
   ],
   "source": [
    "class Point:\n",
    "    def __init__(self,x=0,y=0):\n",
    "        self.x=x\n",
    "        self.y=y\n",
    "        print(\"This is init method\")\n",
    "    def __str__(self):\n",
    "        # return \"({0},{1}\".format(self.x,self.y)\n",
    "        print(\"This is str methof\")\n",
    "        return f\"({self.x,self.y})\"\n",
    "\n",
    "    def __add__(self,other):\n",
    "        print(\"This is add methog\")\n",
    "        x=self.x+other.x\n",
    "        y=self.y+other.y\n",
    "        return Point(x,y)\n",
    "\n",
    "p1=Point(2,3)\n",
    "p2=Point(-1,2)\n",
    "print(p1+p2)"
   ]
  },
  {
   "cell_type": "code",
   "execution_count": 1,
   "metadata": {},
   "outputs": [
    {
     "name": "stdout",
     "output_type": "stream",
     "text": [
      "This is init method 2000\n",
      "This is init method 3000\n",
      "This is init method 4000\n",
      "This is add methog 5000\n",
      "This is init method 5000\n",
      "This is add methog 9000\n",
      "This is init method 9000\n",
      "This is str methof 9000\n",
      "(9000)\n"
     ]
    }
   ],
   "source": [
    "class Point:\n",
    "    def __init__(self,x=0):\n",
    "        self.x=x\n",
    "       \n",
    "        print(\"This is init method\",self.x)\n",
    "    def __str__(self):\n",
    "        # return \"({0},{1}\".format(self.x,self.y)\n",
    "        print(\"This is str methof\",self.x)\n",
    "        return f\"({self.x})\"\n",
    "\n",
    "    def __add__(self,other):\n",
    "        x=self.x+other.x\n",
    "        print(\"This is add methog\",x)\n",
    "        \n",
    "        \n",
    "        return Point(x)\n",
    "\n",
    "p1=Point(2000)\n",
    "p2=Point(3000)\n",
    "p3=Point(4000)\n",
    "print(p1+p2+p3)"
   ]
  }
 ],
 "metadata": {
  "kernelspec": {
   "display_name": "Python 3.10.4 64-bit",
   "language": "python",
   "name": "python3"
  },
  "language_info": {
   "codemirror_mode": {
    "name": "ipython",
    "version": 3
   },
   "file_extension": ".py",
   "mimetype": "text/x-python",
   "name": "python",
   "nbconvert_exporter": "python",
   "pygments_lexer": "ipython3",
   "version": "3.10.4"
  },
  "orig_nbformat": 4,
  "vscode": {
   "interpreter": {
    "hash": "916dbcbb3f70747c44a77c7bcd40155683ae19c65e1c03b4aa3499c5328201f1"
   }
  }
 },
 "nbformat": 4,
 "nbformat_minor": 2
}
