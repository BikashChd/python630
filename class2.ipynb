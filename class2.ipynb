{
 "cells": [
  {
   "cell_type": "markdown",
   "metadata": {},
   "source": [
    "# Ashadh 5 Day 2"
   ]
  },
  {
   "cell_type": "markdown",
   "metadata": {},
   "source": [
    "# conditional statememt in python"
   ]
  },
  {
   "cell_type": "markdown",
   "metadata": {},
   "source": [
    "# if/else statement \n",
    "# syntax:\n",
    "    if (condition):\n",
    "        <operations>\n",
    "    elif <condition>:\n",
    "        <operations>\n",
    "    .......\n",
    "    else: \n",
    "        <operations>"
   ]
  },
  {
   "cell_type": "markdown",
   "metadata": {},
   "source": [
    "# comparision operator in python\n",
    "# < less than operator \n",
    "# > greater then operator\n",
    "# <= less than or equal operator\n",
    "# >= greater than or equal to operator\n",
    "# != not equal to \n"
   ]
  },
  {
   "cell_type": "code",
   "execution_count": 5,
   "metadata": {},
   "outputs": [
    {
     "name": "stdout",
     "output_type": "stream",
     "text": [
      "a is greater than 10 \n"
     ]
    }
   ],
   "source": [
    "#  use of < operator\n",
    "a=int(input(\"Enter the value of a\"))\n",
    "if a>10:\n",
    "    print(\"a is greater than 10 \")\n",
    "else:\n",
    "    print(\"a is less than 10\")"
   ]
  },
  {
   "cell_type": "code",
   "execution_count": 7,
   "metadata": {},
   "outputs": [
    {
     "name": "stdout",
     "output_type": "stream",
     "text": [
      "5 is odd number\n"
     ]
    }
   ],
   "source": [
    "a=int(input(\"Enter any number\"))\n",
    "if (a%2==0):\n",
    "    print(a,\"is even number\")\n",
    "else:\n",
    "    print(a,\"is odd number\")\n"
   ]
  },
  {
   "cell_type": "code",
   "execution_count": 8,
   "metadata": {},
   "outputs": [
    {
     "name": "stdout",
     "output_type": "stream",
     "text": [
      "32 is greater than a\n"
     ]
    }
   ],
   "source": [
    "a=int(input(\"Enter the value of a \"))\n",
    "b=int(input(\"Enter the value of b\"))\n",
    "if a>b:\n",
    "    print(a,\"is greater than b\")\n",
    "elif a<b:\n",
    "    print(b,\"is greater than a\")\n",
    "else: \n",
    "    print(\"a and b are equal\")"
   ]
  },
  {
   "cell_type": "code",
   "execution_count": 10,
   "metadata": {},
   "outputs": [
    {
     "name": "stdout",
     "output_type": "stream",
     "text": [
      "invalid operator,please enter the valid operator\n"
     ]
    }
   ],
   "source": [
    "# calculator \n",
    "a=int(input(\"Enter the value of a =\"))\n",
    "b=int(input(\"Enter the value of b=\"))\n",
    "o=input(\"Enter the operator + - * / % **\")\n",
    "if (o==\"+\"):\n",
    "    print(a+b)\n",
    "elif (o==\"-\"):\n",
    "    print(a-b)\n",
    "elif (o==\"*\"):\n",
    "    print(a*b)\n",
    "elif (o==\"/\"):\n",
    "    print(a/b)\n",
    "elif (o==\"%\"):\n",
    "    print(a%b)\n",
    "elif (o==\"**\"):\n",
    "    print(a**b)\n",
    "else:\n",
    "    print(\"invalid operator,please enter the valid operator\")\n"
   ]
  },
  {
   "cell_type": "code",
   "execution_count": 13,
   "metadata": {},
   "outputs": [
    {
     "name": "stdout",
     "output_type": "stream",
     "text": [
      "The value of b cannot be 0\n"
     ]
    }
   ],
   "source": [
    "a=int(input(\"Enter the value of a =\"))\n",
    "b=int(input(\"Enter the value of b=\"))\n",
    "o=input(\"Enter the operator + - * / % **\")\n",
    "if (o==\"+\"):\n",
    "    print(a+b)\n",
    "elif (o==\"-\"):\n",
    "    print(a-b)\n",
    "elif (o==\"*\"):\n",
    "    print(a*b)\n",
    "elif (o==\"/\" and b!=0):\n",
    "    print(a/b)\n",
    "elif (o==\"/\" and b==0):\n",
    "    print(\"The value of b cannot be 0\")\n",
    "elif (o==\"%\"):\n",
    "    print(a%b)\n",
    "elif (o==\"**\"):\n",
    "    print(a**b)\n",
    "else:\n",
    "    print(\"invalid operator,please enter the valid operator\")\n"
   ]
  }
 ],
 "metadata": {
  "kernelspec": {
   "display_name": "Python 3.10.4 64-bit",
   "language": "python",
   "name": "python3"
  },
  "language_info": {
   "codemirror_mode": {
    "name": "ipython",
    "version": 3
   },
   "file_extension": ".py",
   "mimetype": "text/x-python",
   "name": "python",
   "nbconvert_exporter": "python",
   "pygments_lexer": "ipython3",
   "version": "3.10.4"
  },
  "orig_nbformat": 4,
  "vscode": {
   "interpreter": {
    "hash": "916dbcbb3f70747c44a77c7bcd40155683ae19c65e1c03b4aa3499c5328201f1"
   }
  }
 },
 "nbformat": 4,
 "nbformat_minor": 2
}
