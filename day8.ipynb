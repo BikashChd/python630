{
 "cells": [
  {
   "cell_type": "code",
   "execution_count": 1,
   "metadata": {},
   "outputs": [
    {
     "name": "stdout",
     "output_type": "stream",
     "text": [
      "['ant', 'bat', 'rat', 'dog', 'ball', 'zebra', 'xray']\n"
     ]
    }
   ],
   "source": [
    "a=['apple','ball','cat','dog','ball','zebra','xray']\n",
    "a[0:3]=['ant','bat','rat']          #changing multiple value  in list\n",
    "print(a)"
   ]
  },
  {
   "cell_type": "code",
   "execution_count": 2,
   "metadata": {},
   "outputs": [
    {
     "name": "stdout",
     "output_type": "stream",
     "text": [
      "['ball', 'cat', 'dog', 'ball', 'zebra', 'xray']\n"
     ]
    }
   ],
   "source": [
    "a=['apple','ball','cat','dog','ball','zebra','xray']\n",
    "del a[0]  # deleting the item in index 0 from the list\n",
    "print(a)"
   ]
  },
  {
   "cell_type": "code",
   "execution_count": 3,
   "metadata": {},
   "outputs": [
    {
     "name": "stdout",
     "output_type": "stream",
     "text": [
      "['dog', 'ball', 'zebra', 'xray']\n"
     ]
    }
   ],
   "source": [
    "a=['apple','ball','cat','dog','ball','zebra','xray']\n",
    "del a[0:3]      #deleting the ite in a row del() fucntion \n",
    "print(a)"
   ]
  },
  {
   "cell_type": "code",
   "execution_count": 4,
   "metadata": {},
   "outputs": [
    {
     "name": "stdout",
     "output_type": "stream",
     "text": [
      "['ball', 'cat', 'dog', 'ball', 'zebra', 'xray']\n"
     ]
    }
   ],
   "source": [
    "a=['apple','ball','cat','dog','ball','zebra','xray']\n",
    "a.remove('apple')   #deleting the specific item from the list according to item name   remove()\n",
    "print(a)"
   ]
  },
  {
   "cell_type": "code",
   "execution_count": 5,
   "metadata": {},
   "outputs": [
    {
     "data": {
      "text/plain": [
       "'xray'"
      ]
     },
     "execution_count": 5,
     "metadata": {},
     "output_type": "execute_result"
    }
   ],
   "source": [
    "a=['apple','ball','cat','dog','ball','zebra','xray']\n",
    "# deleting the item from the last index\n",
    "a.pop()\n"
   ]
  },
  {
   "cell_type": "code",
   "execution_count": null,
   "metadata": {},
   "outputs": [],
   "source": [
    "a=['apple','ball','cat','dog','ball','zebra','xray']\n",
    "# deleting the item from the specific index using pop function\n",
    "b=a.pop(2)\n",
    "print(a)\n",
    "print(b)"
   ]
  },
  {
   "cell_type": "code",
   "execution_count": 6,
   "metadata": {},
   "outputs": [
    {
     "name": "stdout",
     "output_type": "stream",
     "text": [
      "yes\n",
      "yes\n",
      "yes\n",
      "yes\n",
      "yes\n",
      "['Ant', 'Zebra', 'xray', 'Cat', 'Ball']\n"
     ]
    }
   ],
   "source": [
    "a=['Apple','Ant','Zebra','xray','Cat','Ball','Apple','Apple']\n",
    "b=[]\n",
    "for i in a :\n",
    "    if \"Apple\" !=i:             #removing multiple same item from the list\n",
    "        print(\"yes\")\n",
    "        b.append(i)\n",
    "print(b)"
   ]
  },
  {
   "cell_type": "markdown",
   "metadata": {},
   "source": [
    "# multi-dimensional list"
   ]
  },
  {
   "cell_type": "markdown",
   "metadata": {},
   "source": [
    "# list inside another list"
   ]
  },
  {
   "cell_type": "code",
   "execution_count": 9,
   "metadata": {},
   "outputs": [
    {
     "name": "stdout",
     "output_type": "stream",
     "text": [
      "[1, 2, 3]\n",
      "3\n",
      "2\n"
     ]
    }
   ],
   "source": [
    "# list inside list\n",
    "a=[[1,2,3],[4,5,6],[7,8,9]]\n",
    "print(a[0])\n",
    "print(len(a))\n",
    "print(a[0][1])"
   ]
  },
  {
   "cell_type": "code",
   "execution_count": 11,
   "metadata": {},
   "outputs": [
    {
     "name": "stdout",
     "output_type": "stream",
     "text": [
      "[['ram', 23, 'skt'], ['mala', 12, 'ktm']]\n"
     ]
    }
   ],
   "source": [
    "# a=[['ram',45,'kathmandu'],['Shyam',23,'Bhaktapur'],['Dilip',46,'Kailali']]\n",
    "info=[]\n",
    "n=int(input(\"enter n= \"))\n",
    "for i in range(n):\n",
    "    name=input(\"Enter name\")\n",
    "    age=int(input(\"enter age\"))\n",
    "    address=input(\"Enter address\")\n",
    "    x=[name,age,address]\n",
    "    info.append(x)\n",
    "print(info)"
   ]
  },
  {
   "cell_type": "code",
   "execution_count": 12,
   "metadata": {},
   "outputs": [
    {
     "name": "stdout",
     "output_type": "stream",
     "text": [
      "['ram', 23, 'skt']\n",
      "['mala', 12, 'ktm']\n"
     ]
    }
   ],
   "source": [
    "for i in info:\n",
    "    print(i)"
   ]
  },
  {
   "cell_type": "code",
   "execution_count": 13,
   "metadata": {},
   "outputs": [
    {
     "name": "stdout",
     "output_type": "stream",
     "text": [
      "['ram', 23, 'skt']\n"
     ]
    }
   ],
   "source": [
    "name=input(\"Enter name\")\n",
    "for i in info:\n",
    "    if name in i:\n",
    "        print(i)"
   ]
  },
  {
   "cell_type": "code",
   "execution_count": 20,
   "metadata": {},
   "outputs": [
    {
     "data": {
      "text/plain": [
       "[['kd', 23, 'skt'], ['mala', 12, 'ktm']]"
      ]
     },
     "execution_count": 20,
     "metadata": {},
     "output_type": "execute_result"
    }
   ],
   "source": [
    "#update \n",
    "info[0]=['kd',23,'skt']\n",
    "info"
   ]
  },
  {
   "cell_type": "code",
   "execution_count": 23,
   "metadata": {},
   "outputs": [
    {
     "name": "stdout",
     "output_type": "stream",
     "text": [
      "[[3, 6], [5, 4]]\n"
     ]
    }
   ],
   "source": [
    "#Wap to create list inside list(matrix) with given row and column\n",
    "a=[]\n",
    "row=int(input(\"Enter the number of rows\"))\n",
    "column=int(input(\"Enter the number of column\"))\n",
    "for i in range(row):\n",
    "    y=[]\n",
    "    for j in range(column):\n",
    "        x=int(input(\"Enter x=\"))\n",
    "        y.append(x)\n",
    "    a.append(y)\n",
    "print(a)\n"
   ]
  },
  {
   "cell_type": "code",
   "execution_count": null,
   "metadata": {},
   "outputs": [],
   "source": []
  }
 ],
 "metadata": {
  "kernelspec": {
   "display_name": "Python 3.10.4 64-bit",
   "language": "python",
   "name": "python3"
  },
  "language_info": {
   "codemirror_mode": {
    "name": "ipython",
    "version": 3
   },
   "file_extension": ".py",
   "mimetype": "text/x-python",
   "name": "python",
   "nbconvert_exporter": "python",
   "pygments_lexer": "ipython3",
   "version": "3.10.4"
  },
  "orig_nbformat": 4,
  "vscode": {
   "interpreter": {
    "hash": "916dbcbb3f70747c44a77c7bcd40155683ae19c65e1c03b4aa3499c5328201f1"
   }
  }
 },
 "nbformat": 4,
 "nbformat_minor": 2
}
