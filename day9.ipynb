{
 "cells": [
  {
   "cell_type": "markdown",
   "metadata": {},
   "source": [
    "# tuple\n",
    "# -Indexing\n",
    "# ordered\n",
    "# multiple data\n",
    "# imutable"
   ]
  },
  {
   "cell_type": "code",
   "execution_count": 3,
   "metadata": {},
   "outputs": [
    {
     "name": "stdout",
     "output_type": "stream",
     "text": [
      "(1, 2, 3, 4, 5, 6)\n",
      "<class 'tuple'>\n"
     ]
    }
   ],
   "source": [
    "a=(1,2,3,4,5,6)      #-> tuple defining\n",
    "print(a)\n",
    "print(type(a))"
   ]
  },
  {
   "cell_type": "code",
   "execution_count": 5,
   "metadata": {},
   "outputs": [
    {
     "name": "stdout",
     "output_type": "stream",
     "text": [
      "ball\n",
      "('ball', 'cat', 'dog')\n"
     ]
    }
   ],
   "source": [
    "a=('apple','ball','cat','dog')\n",
    "print(a[1])\n",
    "print(a[1:])"
   ]
  },
  {
   "cell_type": "code",
   "execution_count": 6,
   "metadata": {},
   "outputs": [
    {
     "name": "stdout",
     "output_type": "stream",
     "text": [
      "(1, 2, 3, 4, 'apple', 'ball', 'cat')\n"
     ]
    }
   ],
   "source": [
    "a=(1,2,3,4)\n",
    "b=('apple','ball','cat')\n",
    "c=a+b\n",
    "print(c)"
   ]
  },
  {
   "cell_type": "markdown",
   "metadata": {},
   "source": [
    "# in tuple we cant perform the action like append(),insert(),extend(),del,pop(),remove(),update etc"
   ]
  },
  {
   "cell_type": "code",
   "execution_count": 7,
   "metadata": {},
   "outputs": [
    {
     "name": "stdout",
     "output_type": "stream",
     "text": [
      "<class 'str'>\n"
     ]
    }
   ],
   "source": [
    "a=('apple')\n",
    "print(type(a))"
   ]
  },
  {
   "cell_type": "code",
   "execution_count": 8,
   "metadata": {},
   "outputs": [
    {
     "name": "stdout",
     "output_type": "stream",
     "text": [
      "<class 'tuple'>\n"
     ]
    }
   ],
   "source": [
    "# for defining the tuple having single element\n",
    "a=('apple',)\n",
    "print(type(a))"
   ]
  },
  {
   "cell_type": "code",
   "execution_count": 10,
   "metadata": {},
   "outputs": [
    {
     "data": {
      "text/plain": [
       "('dilip', 'kd')"
      ]
     },
     "execution_count": 10,
     "metadata": {},
     "output_type": "execute_result"
    }
   ],
   "source": [
    "# for concatenating the tuple\n",
    "a=()\n",
    "b=('dilip',)\n",
    "c=('kd',)\n",
    "d=a+b+c\n",
    "d"
   ]
  },
  {
   "cell_type": "code",
   "execution_count": 12,
   "metadata": {},
   "outputs": [
    {
     "name": "stdout",
     "output_type": "stream",
     "text": [
      "('malati', 'srijana', 'lalita')\n"
     ]
    }
   ],
   "source": [
    "t=()\n",
    "n=int(input(\"Enter tuple=\"))\n",
    "for i in range(n):\n",
    "    x=input(\"Enter x=\")\n",
    "    t=t+(x,)\n",
    "print(t)\n",
    "\n"
   ]
  },
  {
   "cell_type": "markdown",
   "metadata": {},
   "source": [
    "# in tuple we can perform max(),min(),sum() fucntion in tuple"
   ]
  },
  {
   "cell_type": "code",
   "execution_count": 13,
   "metadata": {},
   "outputs": [
    {
     "name": "stdout",
     "output_type": "stream",
     "text": [
      "[1, 2, 3, 4, 'Apple', 'Ball']\n",
      "[1, 2, 3, 4, 'Apple', 'Ball'] <class 'list'>\n",
      "(2, 3, 4, 'Apple', 'Ball')\n",
      "<class 'tuple'>\n"
     ]
    }
   ],
   "source": [
    "# converting the tuple into list\n",
    "a=(1,2,3,4,'Apple','Ball')\n",
    "b=list(a)           # converting tuple into list\n",
    "print(b)\n",
    "print(b,type(b))\n",
    "del(b[0])\n",
    "a=tuple(b)          # converting list into tuple\n",
    "print(a)\n",
    "print(type(a))"
   ]
  },
  {
   "cell_type": "code",
   "execution_count": 15,
   "metadata": {},
   "outputs": [
    {
     "name": "stdout",
     "output_type": "stream",
     "text": [
      "((1, 2, 3), (4, 5, 6), (7, 8, 9))\n"
     ]
    }
   ],
   "source": [
    "# tuple inside tuple\n",
    "a=((1,2,3),(4,5,6),(7,8,9))\n",
    "print(a)"
   ]
  },
  {
   "cell_type": "code",
   "execution_count": 16,
   "metadata": {},
   "outputs": [
    {
     "name": "stdout",
     "output_type": "stream",
     "text": [
      "(('1', '2', '3'), ('4', '5', '6'), ('7', '8', '9'))\n"
     ]
    }
   ],
   "source": [
    "# creating tuple inside tupple\n",
    "a=()\n",
    "r=3\n",
    "c=3\n",
    "for i in range(r):\n",
    "    t=()\n",
    "    for j in range(c):\n",
    "        \n",
    "        x=input(\"Enter x=\")\n",
    "        t=t+(x,)\n",
    "    a=a+(t,)\n",
    "print(a)"
   ]
  },
  {
   "cell_type": "code",
   "execution_count": 17,
   "metadata": {},
   "outputs": [
    {
     "name": "stdout",
     "output_type": "stream",
     "text": [
      "[['1', '2', '3'], ['4', '5', '6'], ['7', '8', '9']]\n"
     ]
    }
   ],
   "source": [
    "# converting tuple inside tuple to list inside list\n",
    "b=[]\n",
    "a=(('1', '2', '3'), ('4', '5', '6'), ('7', '8', '9'))\n",
    "for i in a:\n",
    "    b.append(list(i))\n",
    "print(b)"
   ]
  },
  {
   "cell_type": "code",
   "execution_count": 18,
   "metadata": {},
   "outputs": [
    {
     "name": "stdout",
     "output_type": "stream",
     "text": [
      "('1', '2', '3', '4', '5', '6', '7', '8', '9')\n",
      "<class 'tuple'>\n"
     ]
    }
   ],
   "source": [
    "# converting list inside list to tuple inside tuple\n",
    "t=()\n",
    "b=[['1', '2', '3'], ['4', '5', '6'], ['7', '8', '9']]\n",
    "for i in a:\n",
    "    \n",
    "    t=t+(tuple(i))\n",
    "print(t)\n",
    "print(type(t))\n",
    "\n"
   ]
  },
  {
   "cell_type": "code",
   "execution_count": 20,
   "metadata": {},
   "outputs": [
    {
     "data": {
      "text/plain": [
       "([1, 2, 3, 4], [4, 5, 6], [7, 8, 9])"
      ]
     },
     "execution_count": 20,
     "metadata": {},
     "output_type": "execute_result"
    }
   ],
   "source": [
    "# list inside tuple and \n",
    "t=([1,2,3],[4,5,6],[7,8,9])\n",
    "t[0].append(4)\n",
    "t"
   ]
  },
  {
   "cell_type": "code",
   "execution_count": 25,
   "metadata": {},
   "outputs": [
    {
     "data": {
      "text/plain": [
       "([1, 2], [1, 2])"
      ]
     },
     "execution_count": 25,
     "metadata": {},
     "output_type": "execute_result"
    }
   ],
   "source": [
    "# creating list inside tuple\n",
    "t=()\n",
    "r=2\n",
    "c=2\n",
    "for i in range(r):\n",
    "    l=[]\n",
    "    for j in range(c):\n",
    "        x=int(input(\"Enter x=\"))\n",
    "        l.append(x)\n",
    "    t=t+(l,)\n",
    "t"
   ]
  },
  {
   "cell_type": "code",
   "execution_count": 22,
   "metadata": {},
   "outputs": [
    {
     "data": {
      "text/plain": [
       "(1, 2, 3, 4)"
      ]
     },
     "execution_count": 22,
     "metadata": {},
     "output_type": "execute_result"
    }
   ],
   "source": [
    "# tuple inside list\n",
    "a=[(1,2,3),(4,5,6),(7,8,9)]\n",
    "a[0]\n",
    "a[0]+(4,)"
   ]
  },
  {
   "cell_type": "code",
   "execution_count": 24,
   "metadata": {},
   "outputs": [
    {
     "data": {
      "text/plain": [
       "[(1, 2, 3), (4, 5, 6), (7, 8, 9), (10, 11, 12), (10, 11, 12)]"
      ]
     },
     "execution_count": 24,
     "metadata": {},
     "output_type": "execute_result"
    }
   ],
   "source": [
    "# append in a\n",
    "a.append((10,11,12))\n",
    "a"
   ]
  },
  {
   "cell_type": "code",
   "execution_count": 27,
   "metadata": {},
   "outputs": [
    {
     "data": {
      "text/plain": [
       "(6, 7, 8, 9, 12, 23, 34, 45, 324, 456, 678)"
      ]
     },
     "execution_count": 27,
     "metadata": {},
     "output_type": "execute_result"
    }
   ],
   "source": [
    "# sorting the tuple \n",
    "a=(324,456,678,34,45,23,12,6,7,8,9)\n",
    "tuple(sorted(a))"
   ]
  }
 ],
 "metadata": {
  "kernelspec": {
   "display_name": "Python 3.10.4 64-bit",
   "language": "python",
   "name": "python3"
  },
  "language_info": {
   "codemirror_mode": {
    "name": "ipython",
    "version": 3
   },
   "file_extension": ".py",
   "mimetype": "text/x-python",
   "name": "python",
   "nbconvert_exporter": "python",
   "pygments_lexer": "ipython3",
   "version": "3.10.4"
  },
  "orig_nbformat": 4,
  "vscode": {
   "interpreter": {
    "hash": "916dbcbb3f70747c44a77c7bcd40155683ae19c65e1c03b4aa3499c5328201f1"
   }
  }
 },
 "nbformat": 4,
 "nbformat_minor": 2
}
