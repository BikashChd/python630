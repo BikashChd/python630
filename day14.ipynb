{
 "cells": [
  {
   "cell_type": "markdown",
   "metadata": {},
   "source": [
    "# Ashadh 20,2079\n",
    "# Ashadh 20, panda resumes\n"
   ]
  },
  {
   "cell_type": "code",
   "execution_count": 1,
   "metadata": {},
   "outputs": [],
   "source": [
    "# write on csv file\n",
    "# import csv\n",
    "# fields=['bikash','28','Surkhet']\n",
    "# with open('books.csv','a') as f:\n",
    "import csv\n",
    "a=[[6,'Bikash',30,'Surkhet']]\n",
    "file=open('newData.csv','w')\n",
    "x=csv.writer(file)\n",
    "x.writerow(a)\n",
    "file.close()"
   ]
  },
  {
   "cell_type": "code",
   "execution_count": 4,
   "metadata": {},
   "outputs": [],
   "source": [
    "# write on csv file if the data is in the form of list inside list\n",
    "import csv\n",
    "a=[[6,'Bikash',30,'Surkhet'],[2,'Ram',25,'Banke'],[3,'Ram',55,'Kathmandu']]\n",
    "file=open('newdata1.csv','w')\n",
    "x=csv.writer(file)\n",
    "for i in a:\n",
    "    x.writerow(i)\n",
    "file.close()"
   ]
  },
  {
   "cell_type": "code",
   "execution_count": 6,
   "metadata": {},
   "outputs": [
    {
     "name": "stdout",
     "output_type": "stream",
     "text": [
      "{'6': '2', 'Bikash': 'Ram', '30': '25', 'Surkhet': 'Banke'}\n",
      "{'6': '3', 'Bikash': 'Ram', '30': '55', 'Surkhet': 'Kathmandu'}\n"
     ]
    }
   ],
   "source": [
    "# convert the data in dictionary form\n",
    "import csv\n",
    "with open('newdata1.csv') as csvfile:\n",
    "    csvfile\n",
    "    reader=csv.DictReader(csvfile)\n",
    "    for row in reader:\n",
    "        print(dict(row))\n"
   ]
  },
  {
   "cell_type": "code",
   "execution_count": 8,
   "metadata": {},
   "outputs": [],
   "source": [
    "dict=[\n",
    "    # {'Name':'Ayush','Age':23,'Address':'Kathmandu'},\n",
    "    # {'Name':'Bikash','Age':24,'Address':'Surkhet'}\n",
    "]"
   ]
  },
  {
   "cell_type": "code",
   "execution_count": 9,
   "metadata": {},
   "outputs": [],
   "source": [
    "import csv\n",
    "csv_columns=['Name','Age','Address']\n",
    "n = int(input(\"enter number:\"))\n",
    "for  i in range(n):\n",
    "    name, age, add = [input(f'enter {x}') for x in csv_columns]\n",
    "    dict.append({'Name':name,'Age':age,'Address':add})\n",
    "try:\n",
    "    with open('dataDict.csv','w') as csvfile:\n",
    "        writer=csv.DictWriter(csvfile,fieldnames=csv_columns)\n",
    "        writer.writeheader()\n",
    "        for data in dict:\n",
    "            writer.writerow(data)\n",
    "except IOError:\n",
    "    print(\"I/O Error\")"
   ]
  },
  {
   "cell_type": "code",
   "execution_count": 10,
   "metadata": {},
   "outputs": [],
   "source": [
    "import pandas as pd"
   ]
  },
  {
   "cell_type": "code",
   "execution_count": 11,
   "metadata": {},
   "outputs": [
    {
     "data": {
      "text/html": [
       "<div>\n",
       "<style scoped>\n",
       "    .dataframe tbody tr th:only-of-type {\n",
       "        vertical-align: middle;\n",
       "    }\n",
       "\n",
       "    .dataframe tbody tr th {\n",
       "        vertical-align: top;\n",
       "    }\n",
       "\n",
       "    .dataframe thead th {\n",
       "        text-align: right;\n",
       "    }\n",
       "</style>\n",
       "<table border=\"1\" class=\"dataframe\">\n",
       "  <thead>\n",
       "    <tr style=\"text-align: right;\">\n",
       "      <th></th>\n",
       "      <th>Name</th>\n",
       "      <th>Age</th>\n",
       "      <th>Address</th>\n",
       "    </tr>\n",
       "  </thead>\n",
       "  <tbody>\n",
       "    <tr>\n",
       "      <th>0</th>\n",
       "      <td>bikash</td>\n",
       "      <td>23</td>\n",
       "      <td>surkhet</td>\n",
       "    </tr>\n",
       "    <tr>\n",
       "      <th>1</th>\n",
       "      <td>khagendra</td>\n",
       "      <td>24</td>\n",
       "      <td>skt</td>\n",
       "    </tr>\n",
       "  </tbody>\n",
       "</table>\n",
       "</div>"
      ],
      "text/plain": [
       "        Name  Age  Address\n",
       "0     bikash   23  surkhet\n",
       "1  khagendra   24      skt"
      ]
     },
     "execution_count": 11,
     "metadata": {},
     "output_type": "execute_result"
    }
   ],
   "source": [
    "pd.read_csv('dataDict.csv')"
   ]
  }
 ],
 "metadata": {
  "kernelspec": {
   "display_name": "Python 3.10.4 64-bit",
   "language": "python",
   "name": "python3"
  },
  "language_info": {
   "codemirror_mode": {
    "name": "ipython",
    "version": 3
   },
   "file_extension": ".py",
   "mimetype": "text/x-python",
   "name": "python",
   "nbconvert_exporter": "python",
   "pygments_lexer": "ipython3",
   "version": "3.10.4"
  },
  "orig_nbformat": 4,
  "vscode": {
   "interpreter": {
    "hash": "916dbcbb3f70747c44a77c7bcd40155683ae19c65e1c03b4aa3499c5328201f1"
   }
  }
 },
 "nbformat": 4,
 "nbformat_minor": 2
}
