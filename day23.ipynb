{
 "cells": [
  {
   "cell_type": "markdown",
   "metadata": {},
   "source": [
    "# Ashar 30,2079"
   ]
  },
  {
   "cell_type": "code",
   "execution_count": null,
   "metadata": {},
   "outputs": [],
   "source": [
    "# Exception Handling"
   ]
  },
  {
   "cell_type": "code",
   "execution_count": 1,
   "metadata": {},
   "outputs": [
    {
     "name": "stdout",
     "output_type": "stream",
     "text": [
      "There is an error \n"
     ]
    }
   ],
   "source": [
    "try:\n",
    "    a=int(input(\"Enter the value of a\"))\n",
    "except:\n",
    "    print(\"There is an error \")"
   ]
  },
  {
   "cell_type": "code",
   "execution_count": 2,
   "metadata": {},
   "outputs": [
    {
     "name": "stdout",
     "output_type": "stream",
     "text": [
      "There is an error ,please give the value of b greater than 0\n"
     ]
    }
   ],
   "source": [
    "try: \n",
    "    a=int(input(\"Enter the value of a\"))\n",
    "    b=int(input(\"Enter the value of b\"))\n",
    "    c=a/b\n",
    "    print(c)\n",
    "except:\n",
    "    print(\"There is an error ,please give the value of b greater than 0\")"
   ]
  },
  {
   "cell_type": "code",
   "execution_count": 3,
   "metadata": {},
   "outputs": [
    {
     "name": "stdout",
     "output_type": "stream",
     "text": [
      "There is an error\n",
      "There is an error\n",
      "There is an error\n",
      "0.4\n"
     ]
    }
   ],
   "source": [
    "def cal():\n",
    "    try:\n",
    "        a=int(input(\"Enter a=\"))\n",
    "        b=int(input(\"Enter b=\"))\n",
    "        c=a/b\n",
    "        print(c)\n",
    "    except:\n",
    "        print(\"There is an error\")\n",
    "        cal()\n",
    "\n",
    "cal()"
   ]
  },
  {
   "cell_type": "code",
   "execution_count": 5,
   "metadata": {},
   "outputs": [
    {
     "name": "stdout",
     "output_type": "stream",
     "text": [
      "0.6666666666666666\n"
     ]
    }
   ],
   "source": [
    "# demonstration of else block\n",
    "try:\n",
    "        a=int(input(\"Enter a=\"))\n",
    "        b=int(input(\"Enter b=\"))\n",
    "        c=a/b\n",
    "        \n",
    "except:\n",
    "    print(\"There is an error\")\n",
    "else:\n",
    "    print(c)"
   ]
  },
  {
   "cell_type": "code",
   "execution_count": 7,
   "metadata": {},
   "outputs": [
    {
     "name": "stdout",
     "output_type": "stream",
     "text": [
      "0.6666666666666666\n"
     ]
    }
   ],
   "source": [
    "try:\n",
    "\n",
    "    a=int(input(\"Enter a=\"))\n",
    "    b=int(input(\"Enter b=\"))\n",
    "    c=a/b\n",
    "    \n",
    "except ValueError:\n",
    "    print(\"YOu should enter only integer value\")\n",
    "except ZeroDivisionError:\n",
    "    print(\"You should enter only non-zero value\")\n",
    "else:\n",
    "    print(c)\n",
    "\n",
    "# types of error\n",
    "# 1.Zero division Error\n",
    "# 2.Value Error"
   ]
  },
  {
   "cell_type": "code",
   "execution_count": 10,
   "metadata": {},
   "outputs": [
    {
     "name": "stdout",
     "output_type": "stream",
     "text": [
      "you should entery only int value\n"
     ]
    }
   ],
   "source": [
    "# rasise keyword is used to generate and handle the exception yourself\n",
    "try:\n",
    "    a=int(input(\"Enter a=\"))\n",
    "    b=int(input(\"Enter the value of b\"))\n",
    "    if b==0:\n",
    "        raise ZeroDivisionError\n",
    "    c=a/b\n",
    "except ZeroDivisionError:\n",
    "    print(\"Enter non zero value for b\")\n",
    "except ValueError: \n",
    "    print(\"you should entery only int value\")\n",
    "else:\n",
    "    print(c)\n"
   ]
  },
  {
   "cell_type": "code",
   "execution_count": 9,
   "metadata": {},
   "outputs": [
    {
     "name": "stdout",
     "output_type": "stream",
     "text": [
      "Please enter positive value\n"
     ]
    }
   ],
   "source": [
    "# demonstration of assert\n",
    "try:\n",
    "    a=int(input(\"Enter a=\"))\n",
    "    assert a>0\n",
    "except:\n",
    "    print(\"Please enter positive value,greater than zero\")\n",
    "else: \n",
    "    print(\"You enetered \",a)"
   ]
  },
  {
   "cell_type": "code",
   "execution_count": 12,
   "metadata": {},
   "outputs": [
    {
     "name": "stdout",
     "output_type": "stream",
     "text": [
      "username or password donot match , Please try again\n"
     ]
    }
   ],
   "source": [
    "# password checking using excepti0n\n",
    "username=\"admin\"\n",
    "password=\"admin123\"\n",
    "try:\n",
    "    username1=input(\"Enter user name\")\n",
    "    password1=input(\"Enter password\")\n",
    "    assert username1==username\n",
    "    assert password1==password\n",
    "except:\n",
    "    print(\"username or password donot match , Please try again\")\n",
    "else:\n",
    "    print(\"you are logged in\")"
   ]
  },
  {
   "cell_type": "code",
   "execution_count": 14,
   "metadata": {},
   "outputs": [
    {
     "name": "stdout",
     "output_type": "stream",
     "text": [
      "username or password donot match , Please try again\n",
      "username or password donot match , Please try again\n",
      "username or password donot match , Please try again\n",
      "username or password donot match , Please try again\n",
      "username or password donot match , Please try again\n",
      "you are logged in 6 attempts\n"
     ]
    }
   ],
   "source": [
    "username=\"admin\"\n",
    "password=\"admin123\"\n",
    "c=1\n",
    "def auth():\n",
    "    global c\n",
    "    try:\n",
    "        \n",
    "        username1=input(\"Enter user name\")\n",
    "        password1=input(\"Enter password\")\n",
    "        assert username1==username\n",
    "        assert password1==password\n",
    "    except:\n",
    "        c=c+1\n",
    "        print(\"username or password donot match , Please try again\")\n",
    "        auth()\n",
    "    else:\n",
    "        print(f\"you are logged in {c} attempts\")\n",
    "auth()"
   ]
  },
  {
   "cell_type": "markdown",
   "metadata": {},
   "source": [
    "# os package in python\n"
   ]
  },
  {
   "cell_type": "code",
   "execution_count": 15,
   "metadata": {},
   "outputs": [
    {
     "data": {
      "text/plain": [
       "['day19.ipynb',\n",
       " '.git',\n",
       " 'a.txt',\n",
       " 'bill.csv',\n",
       " 'bill.txt',\n",
       " 'class1.ipynb',\n",
       " 'class2.ipynb',\n",
       " 'Crud.ipynb',\n",
       " 'data.csv',\n",
       " 'data.txt',\n",
       " 'dataDict.csv',\n",
       " 'day10.ipynb',\n",
       " 'day11.ipynb',\n",
       " 'day12.ipynb',\n",
       " 'day13.ipynb',\n",
       " 'day14.ipynb',\n",
       " 'day15.ipynb',\n",
       " 'day16.ipynb',\n",
       " 'day17.ipynb',\n",
       " 'day18.ipynb',\n",
       " 'day20.ipynb',\n",
       " 'day21.ipynb',\n",
       " 'day22.ipynb',\n",
       " 'day23.ipynb',\n",
       " 'day3.ipynb',\n",
       " 'day4.ipynb',\n",
       " 'day5.ipynb',\n",
       " 'day6..ipynb',\n",
       " 'day7.ipynb',\n",
       " 'day8.ipynb',\n",
       " 'day9.ipynb',\n",
       " 'dictPractice.csv',\n",
       " 'listData.csv',\n",
       " 'newData.csv',\n",
       " 'newdata1.csv',\n",
       " 'newFile',\n",
       " 'new_data.csv',\n",
       " 'new_data1.csv',\n",
       " 'pandacsv.csv',\n",
       " 'pandaPractice.ipynb',\n",
       " 'practice.ipynb']"
      ]
     },
     "execution_count": 15,
     "metadata": {},
     "output_type": "execute_result"
    }
   ],
   "source": [
    "import os\n",
    "os.listdir()     #listdir function returns the files and folders present in the current block"
   ]
  },
  {
   "cell_type": "code",
   "execution_count": 17,
   "metadata": {},
   "outputs": [
    {
     "name": "stdout",
     "output_type": "stream",
     "text": [
      "The file is not there\n"
     ]
    }
   ],
   "source": [
    "import os\n",
    "os.listdir()\n",
    "# to remove specific file from the current directory\n",
    "try:\n",
    "    os.remove('bill.txt')\n",
    "    os.listdir()\n",
    "except:\n",
    "    print(\"The file is not there\")\n"
   ]
  },
  {
   "cell_type": "code",
   "execution_count": 18,
   "metadata": {},
   "outputs": [
    {
     "data": {
      "text/plain": [
       "['day19.ipynb',\n",
       " '.git',\n",
       " 'a.txt',\n",
       " 'bill.csv',\n",
       " 'class1.ipynb',\n",
       " 'class2.ipynb',\n",
       " 'Crud.ipynb',\n",
       " 'data.csv',\n",
       " 'data.txt',\n",
       " 'dataDict.csv',\n",
       " 'day10.ipynb',\n",
       " 'day11.ipynb',\n",
       " 'day12.ipynb',\n",
       " 'day13.ipynb',\n",
       " 'day14.ipynb',\n",
       " 'day15.ipynb',\n",
       " 'day16.ipynb',\n",
       " 'day17.ipynb',\n",
       " 'day18.ipynb',\n",
       " 'day20.ipynb',\n",
       " 'day21.ipynb',\n",
       " 'day22.ipynb',\n",
       " 'day23.ipynb',\n",
       " 'day3.ipynb',\n",
       " 'day4.ipynb',\n",
       " 'day5.ipynb',\n",
       " 'day6..ipynb',\n",
       " 'day7.ipynb',\n",
       " 'day8.ipynb',\n",
       " 'day9.ipynb',\n",
       " 'dictPractice.csv',\n",
       " 'listData.csv',\n",
       " 'newData.csv',\n",
       " 'newdata1.csv',\n",
       " 'newFile',\n",
       " 'new_data.csv',\n",
       " 'new_data1.csv',\n",
       " 'pandacsv.csv',\n",
       " 'pandaPractice.ipynb',\n",
       " 'practice.ipynb',\n",
       " 'unique_folder']"
      ]
     },
     "execution_count": 18,
     "metadata": {},
     "output_type": "execute_result"
    }
   ],
   "source": [
    "import os\n",
    "os.mkdir('unique_folder')\n",
    "os.listdir()\n",
    "\n"
   ]
  },
  {
   "cell_type": "code",
   "execution_count": 1,
   "metadata": {},
   "outputs": [],
   "source": [
    "import os\n",
    "os.chdir('unique_folder')\n"
   ]
  },
  {
   "cell_type": "code",
   "execution_count": 2,
   "metadata": {},
   "outputs": [
    {
     "data": {
      "text/plain": [
       "'/media/bikash/201A4BFD1A4BCE8A/BroadwayInfosys/PythonBasic/unique_folder'"
      ]
     },
     "execution_count": 2,
     "metadata": {},
     "output_type": "execute_result"
    }
   ],
   "source": [
    "pwd"
   ]
  },
  {
   "cell_type": "code",
   "execution_count": 1,
   "metadata": {},
   "outputs": [],
   "source": [
    "os.chdir('../')"
   ]
  },
  {
   "cell_type": "code",
   "execution_count": 2,
   "metadata": {},
   "outputs": [
    {
     "data": {
      "text/plain": [
       "'/media/bikash/201A4BFD1A4BCE8A/BroadwayInfosys'"
      ]
     },
     "execution_count": 2,
     "metadata": {},
     "output_type": "execute_result"
    }
   ],
   "source": [
    "pwd"
   ]
  }
 ],
 "metadata": {
  "kernelspec": {
   "display_name": "Python 3.10.4 64-bit",
   "language": "python",
   "name": "python3"
  },
  "language_info": {
   "codemirror_mode": {
    "name": "ipython",
    "version": 3
   },
   "file_extension": ".py",
   "mimetype": "text/x-python",
   "name": "python",
   "nbconvert_exporter": "python",
   "pygments_lexer": "ipython3",
   "version": "3.10.4"
  },
  "orig_nbformat": 4,
  "vscode": {
   "interpreter": {
    "hash": "916dbcbb3f70747c44a77c7bcd40155683ae19c65e1c03b4aa3499c5328201f1"
   }
  }
 },
 "nbformat": 4,
 "nbformat_minor": 2
}
