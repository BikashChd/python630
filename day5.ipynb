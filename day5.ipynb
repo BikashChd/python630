{
 "cells": [
  {
   "cell_type": "markdown",
   "metadata": {},
   "source": [
    "# while loop continued:\n"
   ]
  },
  {
   "cell_type": "code",
   "execution_count": 1,
   "metadata": {},
   "outputs": [
    {
     "name": "stdout",
     "output_type": "stream",
     "text": [
      "25\n"
     ]
    }
   ],
   "source": [
    "# sum of entered number\n",
    "s=0\n",
    "i=0\n",
    "n=int(input(\"Enter the value of n\"))\n",
    "while i<=n:\n",
    "    x=int(input(\"Enter number\"))\n",
    "    s=s+x\n",
    "    i+=1\n",
    "print(s)"
   ]
  },
  {
   "cell_type": "code",
   "execution_count": 2,
   "metadata": {},
   "outputs": [
    {
     "name": "stdout",
     "output_type": "stream",
     "text": [
      "bikash 9848\n",
      "bcd 9845\n",
      "\n"
     ]
    }
   ],
   "source": [
    "# string manipulation using while loop\n",
    "n=int(input(\"Enter n\"))\n",
    "s=str()\n",
    "i=0\n",
    "while i<n:\n",
    "    name=input(\"Enter name\")\n",
    "    phone=input(\"Enter phone number\")\n",
    "    s=s+name+\" \"+phone+\"\\n\"\n",
    "    i=i+1\n",
    "print(s)"
   ]
  },
  {
   "cell_type": "code",
   "execution_count": 7,
   "metadata": {},
   "outputs": [
    {
     "name": "stdout",
     "output_type": "stream",
     "text": [
      "8\n",
      "9\n"
     ]
    }
   ],
   "source": [
    "# break statement using while loop\n",
    "n=int(input(\"Enter any number\"))\n",
    "i=8\n",
    "while i<=n:\n",
    "    if (i==10):\n",
    "        break\n",
    "    \n",
    "    print(i)\n",
    "    i+=1"
   ]
  },
  {
   "cell_type": "code",
   "execution_count": 8,
   "metadata": {},
   "outputs": [
    {
     "name": "stdout",
     "output_type": "stream",
     "text": [
      "hello world\n",
      "hello world\n",
      "hello world\n"
     ]
    }
   ],
   "source": [
    "# break \n",
    "i=0\n",
    "while i<5:\n",
    "    if i==3:\n",
    "        break\n",
    "\n",
    "    print(\"hello world\")\n",
    "    i=i+1"
   ]
  },
  {
   "cell_type": "code",
   "execution_count": 1,
   "metadata": {},
   "outputs": [
    {
     "name": "stdout",
     "output_type": "stream",
     "text": [
      "0\n",
      "1\n",
      "2\n",
      "4\n"
     ]
    }
   ],
   "source": [
    "#  continue statement with python\n",
    "i=0\n",
    "while i<5:\n",
    "    if i==3:\n",
    "        \n",
    "        i+=1\n",
    "        continue\n",
    "\n",
    "    print(i,\"hello world\")\n",
    "    i+=1"
   ]
  },
  {
   "cell_type": "code",
   "execution_count": 4,
   "metadata": {},
   "outputs": [
    {
     "name": "stdout",
     "output_type": "stream",
     "text": [
      "2 is a prime number\n"
     ]
    }
   ],
   "source": [
    "# prime and composite number using while loop\n",
    "n=int(input(\"Enter any number\"))\n",
    "i=2\n",
    "if n>=2:\n",
    "    while i<=(n//2):\n",
    "        if n%i==0:\n",
    "            print(n,\"is a composite number\")\n",
    "            break\n",
    "        i+=1\n",
    "    else:\n",
    "        print(n,\"is a prime number\")\n",
    "else:\n",
    "    print(\"The value of n should be greater than or equal to 2\")\n",
    "\n"
   ]
  },
  {
   "cell_type": "code",
   "execution_count": 5,
   "metadata": {},
   "outputs": [
    {
     "name": "stdout",
     "output_type": "stream",
     "text": [
      "p\n",
      "y\n",
      "t\n",
      "h\n",
      "o\n",
      "n\n"
     ]
    }
   ],
   "source": [
    "a=\"python\"\n",
    "l=len(a)\n",
    "i=0\n",
    "while i<l:\n",
    "    print(a[i])\n",
    "    i+=1"
   ]
  },
  {
   "cell_type": "code",
   "execution_count": null,
   "metadata": {},
   "outputs": [],
   "source": []
  },
  {
   "cell_type": "code",
   "execution_count": 6,
   "metadata": {},
   "outputs": [
    {
     "name": "stdout",
     "output_type": "stream",
     "text": [
      "helloworldiampython"
     ]
    }
   ],
   "source": [
    "a=\"hello world i am python\"\n",
    "l=len(a)\n",
    "i=0\n",
    "while i<l:\n",
    "    if a[i]==\" \":\n",
    "        i+=1\n",
    "        continue\n",
    "    print(a[i],end='')\n",
    "    i+=1\n"
   ]
  },
  {
   "cell_type": "code",
   "execution_count": 4,
   "metadata": {},
   "outputs": [
    {
     "name": "stdout",
     "output_type": "stream",
     "text": [
      "Name of Item momo\n",
      "Price  50\n",
      "========================================================\n",
      "Name of Item noodles\n",
      "Price  1\n",
      "========================================================\n",
      "momo 50 2 100\n",
      "noodles 1 59 59\n",
      "\n",
      "Bill 159\n"
     ]
    }
   ],
   "source": [
    "# WAP to create a billing system using for or while loop\n",
    "#item name,price ,quantity,total,grand total\n",
    "\n",
    "a=int(input(\"Enter the number of products\"))\n",
    "grandTotal=0\n",
    "data=0\n",
    "bills=str()\n",
    "for i in range(0,a):\n",
    "    itmName=input(\"Enter the name of item\")\n",
    "    itmprice=int(input(\"Enter the price of item\"))\n",
    "    itmQuantity=int(input(\"Enter the number of item\"))\n",
    "    print(\"Name of Item:\",itmName)\n",
    "    print(\"Price:\",itmprice)\n",
    "    total=itmQuantity*itmprice\n",
    "    grandTotal=grandTotal+total\n",
    "    bill=itmName+\" \" + str(itmprice)+\" \"+str(itmQuantity)+ \" \"+ str(total) +\"\\n\"\n",
    "    bills=bills+bill\n",
    "    print(\"========================================================\")\n",
    "print(bills)\n",
    "print(\"Bill\",grandTotal)\n",
    "    "
   ]
  },
  {
   "cell_type": "code",
   "execution_count": 5,
   "metadata": {},
   "outputs": [
    {
     "name": "stdout",
     "output_type": "stream",
     "text": [
      "0 1 1  2  3  5  8  13  21  34  55  89  144  233  377  610  987  1597  2584  4181  6765  10946  17711  28657  46368  75025  121393  196418  317811  514229  832040  1346269  2178309  3524578  5702887  9227465  14930352  24157817  39088169  63245986  102334155  165580141  267914296  433494437  701408733  1134903170  1836311903  2971215073  4807526976  7778742049  12586269025  "
     ]
    }
   ],
   "source": [
    "# fibonacci series \n",
    "a=0\n",
    "b=1\n",
    "print(a,b,end=\" \")\n",
    "for i in range(1,50):\n",
    "    c=a+b\n",
    "    print(c,end=\"  \")\n",
    "    a=b\n",
    "    b=c"
   ]
  },
  {
   "cell_type": "code",
   "execution_count": 7,
   "metadata": {},
   "outputs": [
    {
     "name": "stdout",
     "output_type": "stream",
     "text": [
      "The reverse of  123 is 321\n"
     ]
    }
   ],
   "source": [
    "# reverse of a number\n",
    "num=int(input(\"Enter any number\"))\n",
    "a=num\n",
    "s=0\n",
    "while num!=0:\n",
    "    rem=num%10\n",
    "    s=s*10+rem\n",
    "    num=num//10\n",
    "print(\"The reverse of \",a,\"is\",s)"
   ]
  },
  {
   "cell_type": "code",
   "execution_count": 18,
   "metadata": {},
   "outputs": [
    {
     "name": "stdout",
     "output_type": "stream",
     "text": [
      "The average 5.5\n"
     ]
    }
   ],
   "source": [
    "a=input(\"Enter any string\")\n",
    "b=len(a)\n",
    "average=int()\n",
    "c=0\n",
    "for i in range(b):\n",
    "    if a[i]==\" \":\n",
    "        c=c+1\n",
    "average=b/(c+1)\n",
    "print(\"The average\",average)"
   ]
  },
  {
   "cell_type": "code",
   "execution_count": 16,
   "metadata": {},
   "outputs": [
    {
     "name": "stdout",
     "output_type": "stream",
     "text": [
      "olleh"
     ]
    }
   ],
   "source": [
    "# reverse of a string \n",
    "a=input(\"Enter any string\")\n",
    "\n",
    "c=len(a)-1\n",
    "for i in range(c,-1,-1):\n",
    "    print(a[i],end=\"\")\n",
    "\n"
   ]
  },
  {
   "cell_type": "code",
   "execution_count": 4,
   "metadata": {},
   "outputs": [
    {
     "name": "stdout",
     "output_type": "stream",
     "text": [
      "olleholl"
     ]
    }
   ],
   "source": [
    "# reverse of a string using while loop\n",
    "a=input(\"Enter any string\")\n",
    "l=len(a)-1\n",
    "i=-1\n",
    "\n",
    "\n",
    "while l>i:\n",
    "    print(a[l],end=\"\")\n",
    "    l=l-1\n",
    "\n"
   ]
  },
  {
   "cell_type": "code",
   "execution_count": 1,
   "metadata": {},
   "outputs": [
    {
     "name": "stdout",
     "output_type": "stream",
     "text": [
      "0\n",
      "1\n",
      "1\n",
      "2\n",
      "3\n",
      "5\n"
     ]
    }
   ],
   "source": [
    "# fibonacci series\n",
    "a=0\n",
    "b=1\n",
    "n=int(input(\"Enter the number of term\"))\n",
    "for i in range(n):\n",
    "    print(a)\n",
    "    c=a+b\n",
    "    a=b\n",
    "    b=c"
   ]
  }
 ],
 "metadata": {
  "kernelspec": {
   "display_name": "Python 3.10.4 64-bit",
   "language": "python",
   "name": "python3"
  },
  "language_info": {
   "codemirror_mode": {
    "name": "ipython",
    "version": 3
   },
   "file_extension": ".py",
   "mimetype": "text/x-python",
   "name": "python",
   "nbconvert_exporter": "python",
   "pygments_lexer": "ipython3",
   "version": "3.10.4"
  },
  "orig_nbformat": 4,
  "vscode": {
   "interpreter": {
    "hash": "916dbcbb3f70747c44a77c7bcd40155683ae19c65e1c03b4aa3499c5328201f1"
   }
  }
 },
 "nbformat": 4,
 "nbformat_minor": 2
}
