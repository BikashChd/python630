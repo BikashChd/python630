{
 "cells": [
  {
   "cell_type": "code",
   "execution_count": 1,
   "metadata": {},
   "outputs": [
    {
     "name": "stdout",
     "output_type": "stream",
     "text": [
      "28\n"
     ]
    }
   ],
   "source": [
    "# demonstration of sum function in tuple\n",
    "a=(1,2,3,4,5,6,7)\n",
    "print(sum(a))"
   ]
  },
  {
   "cell_type": "code",
   "execution_count": 3,
   "metadata": {},
   "outputs": [
    {
     "name": "stdout",
     "output_type": "stream",
     "text": [
      "(98, 45, 34, 23, 90, 56, 34, 2, 31, 56, 78, 90, 98)\n",
      "=========================================================\n",
      "after sorting (2, 23, 31, 34, 34, 45, 56, 56, 78, 90, 90, 98, 98)\n"
     ]
    }
   ],
   "source": [
    "# sorting the tuple element\n",
    "a=(98,45,34,23,90,56,34,2,31,56,78,90,98)\n",
    "print(a)\n",
    "print(\"=========================================================\")\n",
    "a=tuple(sorted(a))\n",
    "print(\"after sorting\",a)\n"
   ]
  },
  {
   "cell_type": "code",
   "execution_count": 6,
   "metadata": {},
   "outputs": [
    {
     "name": "stdout",
     "output_type": "stream",
     "text": [
      "maximum value 98\n",
      "minimum value 2\n",
      "96\n"
     ]
    }
   ],
   "source": [
    "# demonstration of max and min fucntionn in tuple\n",
    "a=(98,45,34,23,90,56,34,2,31,56,78,90,98)\n",
    "print(\"maximum value\",max(a))\n",
    "print(\"minimum value\",min(a))\n",
    "range=max(a)-min(a)\n",
    "print(range)\n"
   ]
  },
  {
   "cell_type": "code",
   "execution_count": 7,
   "metadata": {},
   "outputs": [
    {
     "data": {
      "text/plain": [
       "3.0"
      ]
     },
     "execution_count": 7,
     "metadata": {},
     "output_type": "execute_result"
    }
   ],
   "source": [
    "a=[1,2,3,4]\n",
    "b=[1,2,3,4]\n",
    "c=[]\n",
    "for i in range(len(a)) :\n",
    "    for j in range(len(b)):\n",
    "        if i==j:\n",
    "            c.append(a[i]*b[j])\n",
    "sum(c)/sum(b)\n",
    "    "
   ]
  },
  {
   "cell_type": "code",
   "execution_count": 11,
   "metadata": {},
   "outputs": [
    {
     "data": {
      "text/plain": [
       "([5, 6, 7], [4, 5, 6])"
      ]
     },
     "execution_count": 11,
     "metadata": {},
     "output_type": "execute_result"
    }
   ],
   "source": [
    "a=([1,2,3],[4,5,6])\n",
    "a[0][0:3]=[5,6,7]\n",
    "a"
   ]
  },
  {
   "cell_type": "code",
   "execution_count": 17,
   "metadata": {},
   "outputs": [
    {
     "name": "stdout",
     "output_type": "stream",
     "text": [
      "([1, 2], [4, 5, 6])\n"
     ]
    }
   ],
   "source": [
    "b=([1,2,3],[4,5,6])\n",
    "b[0].pop()\n",
    "print(b)"
   ]
  },
  {
   "cell_type": "code",
   "execution_count": 19,
   "metadata": {},
   "outputs": [
    {
     "name": "stdout",
     "output_type": "stream",
     "text": [
      "[(1, 2, 3), (4, 5, 6), (7, 8, 9)]\n"
     ]
    }
   ],
   "source": [
    "# creating tuple inside list\n",
    "l=[]\n",
    "x=3\n",
    "r=3\n",
    "for i in range(x):\n",
    "    t=()\n",
    "    for j in range(r):\n",
    "        a=int(input(\"Enter the element\"))\n",
    "        t=t+(a,)\n",
    "    l.append(t)\n",
    "print(l)\n"
   ]
  },
  {
   "cell_type": "code",
   "execution_count": 1,
   "metadata": {},
   "outputs": [
    {
     "data": {
      "text/plain": [
       "['hello', 'ram', 'shyam']"
      ]
     },
     "execution_count": 1,
     "metadata": {},
     "output_type": "execute_result"
    }
   ],
   "source": [
    "#  removing duplicate value from list\n",
    "a=['hello','ram','hello','shyam','ram']\n",
    "c=[]\n",
    "for i in a:\n",
    "    if i not in c:\n",
    "        c.append(i)\n",
    "    else: \n",
    "        pass\n",
    "c"
   ]
  },
  {
   "cell_type": "code",
   "execution_count": 10,
   "metadata": {},
   "outputs": [
    {
     "name": "stdout",
     "output_type": "stream",
     "text": [
      "rararararararararara\n"
     ]
    }
   ],
   "source": [
    "yard=int(input(\"Enter yard\"))\n",
    "if yard<1:\n",
    "    print(\"SSh\")\n",
    "elif  yard<=10:\n",
    "    print(\"ra\"*yard)\n",
    "elif yard>=11:\n",
    "    print(\"high five\")\n",
    "else: \n",
    "    pass\n",
    "\n"
   ]
  },
  {
   "cell_type": "code",
   "execution_count": 2,
   "metadata": {},
   "outputs": [
    {
     "name": "stdout",
     "output_type": "stream",
     "text": [
      "The total cost is  99.0\n"
     ]
    }
   ],
   "source": [
    "brushCost=40\n",
    "paintCost=5\n",
    "paintNumber=int(input(\"Enter the number of paints to be used\"))\n",
    "cost=brushCost+(paintCost*paintNumber)\n",
    "totalCost=cost + ((cost/100)*10)\n",
    "print(\"The total cost is \",totalCost)"
   ]
  },
  {
   "cell_type": "code",
   "execution_count": 21,
   "metadata": {},
   "outputs": [
    {
     "name": "stdout",
     "output_type": "stream",
     "text": [
      "irstf\n"
     ]
    }
   ],
   "source": [
    "def reverse(a):\n",
    "    if len(a)==0:\n",
    "        return a\n",
    "    else: \n",
    "        return (a[1:])+a[0]\n",
    "\n",
    "print (reverse(\"first\"))"
   ]
  }
 ],
 "metadata": {
  "kernelspec": {
   "display_name": "Python 3.10.4 64-bit",
   "language": "python",
   "name": "python3"
  },
  "language_info": {
   "codemirror_mode": {
    "name": "ipython",
    "version": 3
   },
   "file_extension": ".py",
   "mimetype": "text/x-python",
   "name": "python",
   "nbconvert_exporter": "python",
   "pygments_lexer": "ipython3",
   "version": "3.10.4"
  },
  "orig_nbformat": 4,
  "vscode": {
   "interpreter": {
    "hash": "916dbcbb3f70747c44a77c7bcd40155683ae19c65e1c03b4aa3499c5328201f1"
   }
  }
 },
 "nbformat": 4,
 "nbformat_minor": 2
}
