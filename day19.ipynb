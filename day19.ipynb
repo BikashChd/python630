{
 "cells": [
  {
   "cell_type": "markdown",
   "metadata": {},
   "source": [
    "# Ashadh 27,2079\n",
    "# Inheritance"
   ]
  },
  {
   "cell_type": "code",
   "execution_count": null,
   "metadata": {},
   "outputs": [],
   "source": [
    "# class A:\n",
    "    #pass\n",
    "#class B(A):\n",
    "    #pass\n",
    "\n",
    "class A:\n",
    "    pass\n",
    "class B:\n",
    "    pass\n",
    "\n",
    "obj=B()\n"
   ]
  },
  {
   "cell_type": "code",
   "execution_count": 1,
   "metadata": {},
   "outputs": [
    {
     "name": "stdout",
     "output_type": "stream",
     "text": [
      "Hello World . I am Ram. I am 30 years old\n"
     ]
    }
   ],
   "source": [
    "class A:\n",
    "    def __init__(self):\n",
    "        self.name=\"Ram\"\n",
    "        self.age=30\n",
    "\n",
    "class B(A):\n",
    "    def info(self):\n",
    "        data=f\"Hello World . I am {self.name}. I am {self.age} years old\"\n",
    "        print(data)\n",
    "\n",
    "obj=B()\n",
    "obj.info()"
   ]
  },
  {
   "cell_type": "code",
   "execution_count": 2,
   "metadata": {},
   "outputs": [
    {
     "name": "stdout",
     "output_type": "stream",
     "text": [
      "Hello World. I am Ram. I ma 30 years old.\n"
     ]
    }
   ],
   "source": [
    "class A:\n",
    "    def __init__(self,name,age):\n",
    "        self.name=name\n",
    "        self.age=age\n",
    "\n",
    "class B(A):\n",
    "    def info(self):\n",
    "        data=f\"Hello World. I am {self.name}. I ma {self.age} years old.\"\n",
    "        print(data)\n",
    "\n",
    "obj=B(\"Ram\",30)\n",
    "obj.info()"
   ]
  },
  {
   "cell_type": "code",
   "execution_count": 3,
   "metadata": {},
   "outputs": [
    {
     "name": "stdout",
     "output_type": "stream",
     "text": [
      "The area is  156\n",
      "The volume is  4896\n"
     ]
    }
   ],
   "source": [
    "class A:\n",
    "    def __init__(self,length,breadth,height):\n",
    "        self.length=length\n",
    "        self.breadth=breadth\n",
    "        self.height=height\n",
    "class B(A):\n",
    "    def calcArea(self):\n",
    "        a=self.length* self.breadth\n",
    "        print(\"The area is \",a)\n",
    "\n",
    "class C(A):\n",
    "    def calcVol(self):\n",
    "        v=self.length*self.breadth*self.height\n",
    "        print(\"The volume is \",v)\n",
    "\n",
    "obj=B(12,13,14)\n",
    "obj.calcArea()\n",
    "obj1=C(12,34,12)\n",
    "obj1.calcVol()\n"
   ]
  },
  {
   "cell_type": "code",
   "execution_count": 4,
   "metadata": {},
   "outputs": [
    {
     "name": "stdout",
     "output_type": "stream",
     "text": [
      "Hello World . I am Bikash. I am 30 years old. I live in Surkhet\n"
     ]
    }
   ],
   "source": [
    "class A:\n",
    "    def __init__(self,add):\n",
    "        self.add=add\n",
    "\n",
    "class B(A):\n",
    "    def __init__(self,name,age,add):\n",
    "        self.name=name\n",
    "        self.age=age\n",
    "        A.__init__(self,add)\n",
    "    def info(self):\n",
    "        data=f\"Hello World . I am {self.name}. I am {self.age} years old. I live in {self.add}\"\n",
    "        print(data)\n",
    "\n",
    "obj=B(\"Bikash\",30,\"Surkhet\")\n",
    "obj.info()"
   ]
  },
  {
   "cell_type": "code",
   "execution_count": null,
   "metadata": {},
   "outputs": [],
   "source": [
    "# Demonstration of multilevel inheritance \n",
    "class A:\n",
    "    pass\n",
    "class B(A):\n",
    "    pass\n",
    "class C(B):\n",
    "    pass\n",
    "obj=C()\n"
   ]
  },
  {
   "cell_type": "code",
   "execution_count": 7,
   "metadata": {},
   "outputs": [
    {
     "name": "stdout",
     "output_type": "stream",
     "text": [
      "The volume 24\n"
     ]
    }
   ],
   "source": [
    "# Multilevel inheritance\n",
    "class A:\n",
    "    def __init__(self,height):\n",
    "        self.height=height\n",
    "class B(A):\n",
    "    def __init__(self,breadth,height):\n",
    "        self.breadth=breadth\n",
    "        A.__init__(self,height)\n",
    "\n",
    "class C(B):\n",
    "    def __init__(self,length,breadth,height):\n",
    "        self.length=length\n",
    "        B.__init__(self,breadth,height)\n",
    "        \n",
    "    def volume(self):\n",
    "        v=self.length*self.breadth*self.height\n",
    "        print(\"The volume\",v)\n",
    "\n",
    "obj=C(2,3,4)\n",
    "obj.volume()"
   ]
  },
  {
   "cell_type": "code",
   "execution_count": 11,
   "metadata": {},
   "outputs": [
    {
     "name": "stdout",
     "output_type": "stream",
     "text": [
      "Hello World, I am Bikash.I live in Surkhet. I am 12 years old\n"
     ]
    }
   ],
   "source": [
    "class A:\n",
    "    def __init__(self):\n",
    "        self.add=\"Surkhet\"\n",
    "\n",
    "class B:\n",
    "    def __init__(self):\n",
    "        self.age=12\n",
    "class C(B,A):\n",
    "    def __init__(self):\n",
    "        self.name=\"Bikash\"\n",
    "        A.__init__(self)\n",
    "        B.__init__(self)\n",
    "\n",
    "    def info(self):\n",
    "        print(f\"Hello World, I am {self.name}.I live in {self.add}. I am {self.age} years old\")\n",
    "\n",
    "obj=C()\n",
    "obj.info()\n"
   ]
  },
  {
   "cell_type": "code",
   "execution_count": 14,
   "metadata": {},
   "outputs": [
    {
     "name": "stdout",
     "output_type": "stream",
     "text": [
      "Hello World, I am RAm.I live in Surkhet. I am 45 years old\n"
     ]
    }
   ],
   "source": [
    "class A:\n",
    "    def __init__(self,add):\n",
    "        self.add=add\n",
    "\n",
    "class B:\n",
    "    def __init__(self,age):\n",
    "        self.age=age\n",
    "class C(B,A):\n",
    "    def __init__(self,name,age,add):\n",
    "        self.name=name\n",
    "        B.__init__(self,age)\n",
    "        A.__init__(self,add)\n",
    "\n",
    "    def info(self):\n",
    "        print(f\"Hello World, I am {self.name}.I live in {self.add}. I am {self.age} years old\")\n",
    "\n",
    "obj=C(\"RAm\",45,\"Surkhet\")\n",
    "obj.info()\n"
   ]
  }
 ],
 "metadata": {
  "kernelspec": {
   "display_name": "Python 3.10.4 64-bit",
   "language": "python",
   "name": "python3"
  },
  "language_info": {
   "codemirror_mode": {
    "name": "ipython",
    "version": 3
   },
   "file_extension": ".py",
   "mimetype": "text/x-python",
   "name": "python",
   "nbconvert_exporter": "python",
   "pygments_lexer": "ipython3",
   "version": "3.10.4"
  },
  "orig_nbformat": 4,
  "vscode": {
   "interpreter": {
    "hash": "916dbcbb3f70747c44a77c7bcd40155683ae19c65e1c03b4aa3499c5328201f1"
   }
  }
 },
 "nbformat": 4,
 "nbformat_minor": 2
}
