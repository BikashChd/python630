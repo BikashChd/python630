{
 "cells": [
  {
   "cell_type": "markdown",
   "metadata": {},
   "source": [
    "# list\n",
    "# indexing\n",
    "# ordered\n",
    "# multiple values\n",
    "# mutable"
   ]
  },
  {
   "cell_type": "code",
   "execution_count": 1,
   "metadata": {},
   "outputs": [
    {
     "name": "stdout",
     "output_type": "stream",
     "text": [
      "['apple', 'ball', 'cat', 'dog', 'fist']\n",
      "<class 'list'>\n"
     ]
    }
   ],
   "source": [
    "#  illurstration of list\n",
    "a=[]\n",
    "b=['apple','ball','cat','dog','fist']\n",
    "print(b)\n",
    "print(type(b))\n",
    "print(\"The length of b\",len(b))"
   ]
  },
  {
   "cell_type": "code",
   "execution_count": 2,
   "metadata": {},
   "outputs": [
    {
     "name": "stdout",
     "output_type": "stream",
     "text": [
      "cat\n"
     ]
    }
   ],
   "source": [
    "# negative indexing in list\n",
    "b=['apple','ball','cat','dog','fist']\n",
    "print(b[-3])"
   ]
  },
  {
   "cell_type": "code",
   "execution_count": 3,
   "metadata": {},
   "outputs": [
    {
     "name": "stdout",
     "output_type": "stream",
     "text": [
      "['apple', 'ball', 'cat', 'dog', 1, 2, 3, 4, 5, 6]\n"
     ]
    }
   ],
   "source": [
    "# adding two list \n",
    "a=['apple','ball','cat','dog']\n",
    "b=[1,2,3,4,5,6]\n",
    "c=a+b\n",
    "print(c)"
   ]
  },
  {
   "cell_type": "code",
   "execution_count": 4,
   "metadata": {},
   "outputs": [
    {
     "name": "stdout",
     "output_type": "stream",
     "text": [
      "['apple', 'ball', 'cat', 'dog', 'apple', 'ball', 'cat', 'dog']\n"
     ]
    }
   ],
   "source": [
    "# enlargement in list\n",
    "a=['apple','ball','cat','dog']\n",
    "print(a*2)"
   ]
  },
  {
   "cell_type": "code",
   "execution_count": 5,
   "metadata": {},
   "outputs": [
    {
     "name": "stdout",
     "output_type": "stream",
     "text": [
      "['ant', 'ball', 'cat', 'dog']\n"
     ]
    }
   ],
   "source": [
    "# mutable in list\n",
    "a=['apple','ball','cat','dog']\n",
    "a[0]='ant'\n",
    "print(a)\n"
   ]
  },
  {
   "cell_type": "code",
   "execution_count": null,
   "metadata": {},
   "outputs": [],
   "source": [
    "# append() fucntion is to insert the data after the last index\n",
    "# insert() is used to insert the item in any specified index in list\n",
    "# extend"
   ]
  },
  {
   "cell_type": "code",
   "execution_count": 6,
   "metadata": {},
   "outputs": [
    {
     "name": "stdout",
     "output_type": "stream",
     "text": [
      "['apple', 'ball', 'cat']\n"
     ]
    }
   ],
   "source": [
    "# append function demonstration\n",
    "a=[]\n",
    "a.append('apple')\n",
    "a.append('ball')\n",
    "a.append('cat')\n",
    "print(a)"
   ]
  },
  {
   "cell_type": "code",
   "execution_count": 7,
   "metadata": {},
   "outputs": [
    {
     "name": "stdout",
     "output_type": "stream",
     "text": [
      "[2]\n"
     ]
    }
   ],
   "source": [
    "a=list()\n",
    "n= int(input(\"Enter n=\"))\n",
    "for i in range (n):\n",
    "    x=int(input(\"Enter x=\"))\n",
    "    a.append(x)\n",
    "print(a)\n"
   ]
  },
  {
   "cell_type": "code",
   "execution_count": 9,
   "metadata": {},
   "outputs": [
    {
     "name": "stdout",
     "output_type": "stream",
     "text": [
      "The maximum value= 678\n",
      "the minimum value = 34\n",
      "[34, 76, 234, 324, 678]\n"
     ]
    }
   ],
   "source": [
    "a=[324,76,678,34,234]\n",
    "print(\"The maximum value=\",max(a))  #nax function returns the maximum value item from the given list\n",
    "print(\"the minimum value =\",min(a)) #min function returns the minimum value item from the given list\n",
    "a.sort() # sort function arrange the given list item in an ascending order\n",
    "print(a)\n",
    "a.reverse() # reverse function returns the given list intem in a descending order\n"
   ]
  },
  {
   "cell_type": "code",
   "execution_count": 11,
   "metadata": {},
   "outputs": [
    {
     "name": "stdout",
     "output_type": "stream",
     "text": [
      "34\n",
      "76\n",
      "234\n",
      "324\n",
      "678\n"
     ]
    }
   ],
   "source": [
    "# demonstration of list in python\n",
    "for i in a :\n",
    "    print(i)"
   ]
  },
  {
   "cell_type": "code",
   "execution_count": 13,
   "metadata": {},
   "outputs": [
    {
     "name": "stdout",
     "output_type": "stream",
     "text": [
      "yes \n",
      "The item is found 1 times\n"
     ]
    }
   ],
   "source": [
    "# searching the specific item in list\n",
    "a=['apple','ball','cat','dog','dilip','malati']\n",
    "search=input(\"Enter the item to be searched\")\n",
    "if search in a :\n",
    "    print(\"yes \")\n",
    "    print(f\"The item is found {a.count(search)} times\")\n"
   ]
  },
  {
   "cell_type": "code",
   "execution_count": 17,
   "metadata": {},
   "outputs": [
    {
     "name": "stdout",
     "output_type": "stream",
     "text": [
      "['APPLE', 'BALL', 'CAT', 'DOG']\n"
     ]
    }
   ],
   "source": [
    "# converting the list item from uppercase to lower or vice-versa\n",
    "a=['apple','ball','cat','dog']\n",
    "\n",
    "c=[]\n",
    "for i in a:\n",
    "    i=i.upper()\n",
    "    c.append(i)\n",
    "print(c)\n",
    "\n",
    "    \n"
   ]
  },
  {
   "cell_type": "code",
   "execution_count": 21,
   "metadata": {},
   "outputs": [
    {
     "name": "stdout",
     "output_type": "stream",
     "text": [
      "yes\n"
     ]
    }
   ],
   "source": [
    "# searching the list item after converting the case\n",
    "a=['apple','ball','cat','dog']\n",
    "search=input(\"Enter the item to be searched\")\n",
    "c=0 \n",
    "l=len(a)\n",
    "for i in range(l):\n",
    "\n",
    "    if search.lower()== a[i].lower():\n",
    "        c=c+1\n",
    "if c>0:\n",
    "    print(\"yes\")\n",
    "else:\n",
    "    print(\"no\")"
   ]
  },
  {
   "cell_type": "code",
   "execution_count": 22,
   "metadata": {},
   "outputs": [
    {
     "name": "stdout",
     "output_type": "stream",
     "text": [
      "['apple', 'ball', 'xray', 'cat', 'dog', 'elephant']\n"
     ]
    }
   ],
   "source": [
    "a=['apple','ball','cat','dog','elephant']\n",
    "a.insert(2,'xray')    #insert(index,value) add the item at specified position in list\n",
    "print(a)"
   ]
  },
  {
   "cell_type": "code",
   "execution_count": 24,
   "metadata": {},
   "outputs": [
    {
     "name": "stdout",
     "output_type": "stream",
     "text": [
      "['apple', 'ball', 'cat', 'dog', 'elephant', 1, 2, 3, 4, 5]\n",
      "['apple', 'ball', 'cat', 'dog', 'elephant', 1, 2, 3, 4, 5, 'a', 'p', 'p', 'l', 'e']\n"
     ]
    }
   ],
   "source": [
    "#illustration of extend() function\n",
    "a=['apple','ball','cat','dog','elephant']\n",
    "b=[1,2,3,4,5]\n",
    "a.extend(b)\n",
    "print(a)\n",
    "c=\"apple\"\n",
    "a.extend(c)\n",
    "print(a)"
   ]
  },
  {
   "cell_type": "code",
   "execution_count": 27,
   "metadata": {},
   "outputs": [
    {
     "name": "stdout",
     "output_type": "stream",
     "text": [
      "['a', 'p', 'p', 'l', 'e']\n"
     ]
    }
   ],
   "source": [
    "# converting string to list\n",
    "a=\"apple\"\n",
    "b=list(a)\n",
    "print(b)\n"
   ]
  },
  {
   "cell_type": "code",
   "execution_count": null,
   "metadata": {},
   "outputs": [],
   "source": [
    "# illustration of index\n",
    "a=['apple', 'ball', 'cat', 'dog', 'elephant', 1, 2, 3, 4, 5, 'a', 'p', 'p', 'l', 'e']\n",
    "a.index('cat')"
   ]
  },
  {
   "cell_type": "code",
   "execution_count": 28,
   "metadata": {},
   "outputs": [
    {
     "name": "stdout",
     "output_type": "stream",
     "text": [
      "0\n",
      "4\n",
      "6\n"
     ]
    }
   ],
   "source": [
    "a=['apple','ball','cat','dog','apple','ball','apple']\n",
    "search=input(\"Enter search=\")\n",
    "for i in range(len(a)):\n",
    "    if search==a[i]:\n",
    "        print(i)"
   ]
  },
  {
   "cell_type": "code",
   "execution_count": 2,
   "metadata": {},
   "outputs": [
    {
     "name": "stdout",
     "output_type": "stream",
     "text": [
      "total digit 3\n",
      "total letter 10\n"
     ]
    }
   ],
   "source": [
    "n=input(\"Enter any string\")\n",
    "d=0\n",
    "l=0\n",
    "\n",
    "for i in n:\n",
    "    if i=='0' or i=='1' or i=='2' or i=='3' or i=='4' or i=='5' or i=='6' or i=='7' or i=='8' or i=='9':\n",
    "        d+=1\n",
    "    else:\n",
    "        l+=1\n",
    "\n",
    "print(\"total digit\",d)\n",
    "print(\"total letter\",l)\n"
   ]
  },
  {
   "cell_type": "code",
   "execution_count": 3,
   "metadata": {},
   "outputs": [
    {
     "name": "stdout",
     "output_type": "stream",
     "text": [
      "Total number of digits 3\n",
      "Total number of alphabets 10\n",
      "total symbol and spaces 2\n"
     ]
    }
   ],
   "source": [
    "digitList=['0','1','2','3','4','5','6','7','8','9','10']\n",
    "alphabetList=['a','b','c','d','e','f','g','h','i','j','k','l','m','n','o','p','q','r','s','t','u','v','w','x','y','z']\n",
    "l=0\n",
    "d=0\n",
    "c=0\n",
    "string=input(\"Enter any string\")\n",
    "for i in string:\n",
    "    if i in digitList:\n",
    "        d=d+1\n",
    "    elif i in alphabetList:\n",
    "        l=l+1\n",
    "    else:\n",
    "        c+=1\n",
    "\n",
    "\n",
    "print(\"Total number of digits\",d)\n",
    "print(\"Total number of alphabets\",l)\n",
    "print(\"total symbol and spaces\",c)"
   ]
  },
  {
   "cell_type": "code",
   "execution_count": 3,
   "metadata": {},
   "outputs": [
    {
     "name": "stdout",
     "output_type": "stream",
     "text": [
      "Total number of digit 3\n",
      "Total number of letter 10\n",
      "4\n"
     ]
    }
   ],
   "source": [
    "s=input(\"Enter any string\")\n",
    "d=0\n",
    "l=0\n",
    "a=0\n",
    "\n",
    "for i in s :\n",
    "    if i.isalpha():\n",
    "        l+=1\n",
    "    elif i.isdigit():\n",
    "        d+=1\n",
    "    else:\n",
    "        a+=1\n",
    "print(\"Total number of digit\",d)\n",
    "print(\"Total number of letter\",l)\n",
    "print(a)\n",
    "\n"
   ]
  }
 ],
 "metadata": {
  "kernelspec": {
   "display_name": "Python 3.10.4 64-bit",
   "language": "python",
   "name": "python3"
  },
  "language_info": {
   "codemirror_mode": {
    "name": "ipython",
    "version": 3
   },
   "file_extension": ".py",
   "mimetype": "text/x-python",
   "name": "python",
   "nbconvert_exporter": "python",
   "pygments_lexer": "ipython3",
   "version": "3.10.4"
  },
  "orig_nbformat": 4,
  "vscode": {
   "interpreter": {
    "hash": "916dbcbb3f70747c44a77c7bcd40155683ae19c65e1c03b4aa3499c5328201f1"
   }
  }
 },
 "nbformat": 4,
 "nbformat_minor": 2
}
