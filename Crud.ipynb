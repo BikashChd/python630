{
 "cells": [
  {
   "cell_type": "code",
   "execution_count": 1,
   "metadata": {},
   "outputs": [
    {
     "name": "stdout",
     "output_type": "stream",
     "text": [
      "dictionary inside list [{'name': 'kd', 'address': 'skt', 'age': 25}, {'name': 'ganesh', 'address': 'npj', 'age': 23}]\n"
     ]
    }
   ],
   "source": [
    "# creating dictionary inside list\n",
    "l=[]\n",
    "n=int(input(\"Enter the number of item\"))\n",
    "d=dict()\n",
    "for i in range(n):\n",
    "    name=input(\"Enter name\")\n",
    "    address=input(\"Enter address\")\n",
    "    age=int(input(\"Enter address\"))\n",
    "    d={\n",
    "        'name':name,\n",
    "        'address':address,\n",
    "        'age':age\n",
    "    }\n",
    "    l.append(d)\n",
    "print(\"dictionary inside list\",l)\n",
    "\n"
   ]
  },
  {
   "cell_type": "code",
   "execution_count": 11,
   "metadata": {},
   "outputs": [
    {
     "name": "stdout",
     "output_type": "stream",
     "text": [
      "('name', 'kd')\n",
      "('address', 'skt')\n",
      "('age', 25)\n"
     ]
    }
   ],
   "source": [
    "# reading list element\n",
    "for i in l[0].items():\n",
    "    print(i)"
   ]
  },
  {
   "cell_type": "code",
   "execution_count": 16,
   "metadata": {},
   "outputs": [
    {
     "name": "stdout",
     "output_type": "stream",
     "text": [
      "[{'name': 'ram', 'address': 'skt'}, {'name': 'ganesh', 'address': 'npj', 'age': 23}]\n"
     ]
    }
   ],
   "source": [
    "# updating list element\n",
    "l[0]['name']='ram'\n",
    "print(l)"
   ]
  },
  {
   "cell_type": "code",
   "execution_count": 25,
   "metadata": {},
   "outputs": [],
   "source": [
    "l=[{'name': 'ram', 'address': 'skt'}, {'name': 'ganesh', 'address': 'npj', 'age': 23}]\n",
    "del l[0]['name']\n"
   ]
  },
  {
   "cell_type": "code",
   "execution_count": 27,
   "metadata": {},
   "outputs": [
    {
     "name": "stdout",
     "output_type": "stream",
     "text": [
      "[{'info': {'name': 'bikash', 'phone': 9848}, 'info2': {'address': 'surkhet', 'rollno': 2}}, {'info': {'name': 'kd', 'phone': 1234}, 'info2': {'address': 'birendranagar', 'rollno': 12}}]\n"
     ]
    }
   ],
   "source": [
    "# creating complex dictionary inside list\n",
    "l=[]\n",
    "d1=dict()\n",
    "d2=dict()\n",
    "d11=dict()\n",
    "d12=dict()\n",
    "n=int(input(\"Enter number of items\"))\n",
    "for i in range(n):\n",
    "    name=input(\"Enter name\")\n",
    "    phone=int(input(\"Enter phone\"))\n",
    "    address=input(\"Enter address\")\n",
    "    roll=int(input(\"Enter roll number\"))\n",
    "\n",
    "\n",
    "    d1={\n",
    "        'info':{\n",
    "           'name':name,\n",
    "           'phone':phone},\n",
    "        'info2':{\n",
    "            'address':address,\n",
    "            'rollno':roll\n",
    "\n",
    "        }\n",
    "    }\n",
    "    l.append(d1)\n",
    "print(l)"
   ]
  },
  {
   "cell_type": "code",
   "execution_count": 29,
   "metadata": {},
   "outputs": [
    {
     "data": {
      "text/plain": [
       "'bikash'"
      ]
     },
     "execution_count": 29,
     "metadata": {},
     "output_type": "execute_result"
    }
   ],
   "source": [
    "# reading list element\n",
    "l[0]['info']['name']"
   ]
  },
  {
   "cell_type": "code",
   "execution_count": 30,
   "metadata": {},
   "outputs": [
    {
     "data": {
      "text/plain": [
       "dict_items([('info', {'name': 'bikash', 'phone': 9848}), ('info2', {'address': 'surkhet', 'rollno': 2})])"
      ]
     },
     "execution_count": 30,
     "metadata": {},
     "output_type": "execute_result"
    }
   ],
   "source": [
    "# reading dictionary key and values inside list\n",
    "l[0].items()"
   ]
  },
  {
   "cell_type": "code",
   "execution_count": 32,
   "metadata": {},
   "outputs": [
    {
     "data": {
      "text/plain": [
       "[{'info': {'name': 'Hari', 'phone': 9848},\n",
       "  'info2': {'address': 'surkhet', 'rollno': 2}},\n",
       " {'info': {'name': 'kd', 'phone': 1234},\n",
       "  'info2': {'address': 'birendranagar', 'rollno': 12}}]"
      ]
     },
     "execution_count": 32,
     "metadata": {},
     "output_type": "execute_result"
    }
   ],
   "source": [
    "# update dictionary values inside list\n",
    "l[0]['info']['name']=\"Hari\"\n",
    "l"
   ]
  },
  {
   "cell_type": "code",
   "execution_count": 37,
   "metadata": {},
   "outputs": [
    {
     "name": "stdout",
     "output_type": "stream",
     "text": [
      "[{'info': {'name': 'Hari', 'phone': 9848}, 'info2': {'address': 'surkhet', 'rollno': 2}}, {'info': {'name': 'kd', 'phone': 1234}, 'info2': {'rollno': 12}}]\n"
     ]
    }
   ],
   "source": [
    "# delete dictionary value inside list's dictionary \n",
    "# del l[1]['info2']['address']\n",
    "print(l)"
   ]
  }
 ],
 "metadata": {
  "kernelspec": {
   "display_name": "Python 3.10.4 64-bit",
   "language": "python",
   "name": "python3"
  },
  "language_info": {
   "codemirror_mode": {
    "name": "ipython",
    "version": 3
   },
   "file_extension": ".py",
   "mimetype": "text/x-python",
   "name": "python",
   "nbconvert_exporter": "python",
   "pygments_lexer": "ipython3",
   "version": "3.10.4"
  },
  "orig_nbformat": 4,
  "vscode": {
   "interpreter": {
    "hash": "916dbcbb3f70747c44a77c7bcd40155683ae19c65e1c03b4aa3499c5328201f1"
   }
  }
 },
 "nbformat": 4,
 "nbformat_minor": 2
}
