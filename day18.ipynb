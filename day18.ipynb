{
 "cells": [
  {
   "cell_type": "markdown",
   "metadata": {},
   "source": [
    "Ashar 26,2079\n",
    "# OOP in python"
   ]
  },
  {
   "cell_type": "code",
   "execution_count": null,
   "metadata": {},
   "outputs": [],
   "source": [
    "# defining class and its object\n",
    "\n",
    "#class <class_name>:\n",
    "    # <operaitons>\n",
    "\n",
    "#obh=<classname>\n"
   ]
  },
  {
   "cell_type": "code",
   "execution_count": 1,
   "metadata": {},
   "outputs": [
    {
     "name": "stdout",
     "output_type": "stream",
     "text": [
      "Hello World\n"
     ]
    }
   ],
   "source": [
    "class Hello:\n",
    "    print(\"Hello World\")\n",
    "obj=Hello()"
   ]
  },
  {
   "cell_type": "code",
   "execution_count": 3,
   "metadata": {},
   "outputs": [
    {
     "name": "stdout",
     "output_type": "stream",
     "text": [
      "hello world\n"
     ]
    }
   ],
   "source": [
    "class Hello:\n",
    "    @staticmethod\n",
    "    def hello():\n",
    "        print(\"hello world\")\n",
    "obj=Hello()\n",
    "obj.hello()"
   ]
  },
  {
   "cell_type": "code",
   "execution_count": null,
   "metadata": {},
   "outputs": [],
   "source": [
    "class Hello:\n",
    "   \n",
    "    def hello(self):\n",
    "        print(\"hello world\")\n",
    "obj=Hello()\n",
    "obj.hello()"
   ]
  },
  {
   "cell_type": "code",
   "execution_count": 4,
   "metadata": {},
   "outputs": [
    {
     "name": "stdout",
     "output_type": "stream",
     "text": [
      "The area is  1035\n",
      "The volume is  9384\n",
      "The perimeter is  48\n"
     ]
    }
   ],
   "source": [
    "class Cal:\n",
    "    def area(self,l,b):\n",
    "        a=l*b\n",
    "        print(\"The area is \",a)\n",
    "    def volume(self,l,b,h):\n",
    "        v=l*b*h\n",
    "        print(\"The volume is \",v)\n",
    "    def perimeter(self,l,b):\n",
    "        p=2*(l+b)\n",
    "        print(\"The perimeter is \",p)\n",
    "obj=Cal()\n",
    "obj.area(23,45)\n",
    "obj.volume(12,34,23)\n",
    "obj.perimeter(12,12)"
   ]
  },
  {
   "cell_type": "code",
   "execution_count": 5,
   "metadata": {},
   "outputs": [
    {
     "name": "stdout",
     "output_type": "stream",
     "text": [
      "The area is  2\n",
      "The volume is  24\n",
      "The perimeter is  20\n"
     ]
    }
   ],
   "source": [
    "class Cal:\n",
    "    def area(self):\n",
    "        l=int(input(\"Enter length\"))\n",
    "        b=int(input(\"Enter breadth\"))\n",
    "        a=l*b\n",
    "        print(\"The area is \",a)\n",
    "    def volume(self):\n",
    "        l=int(input(\"Enter length\"))\n",
    "        b=int(input(\"Enter breadth\"))\n",
    "        h=int(input(\"Enter height\"))\n",
    "        v=l*b*h\n",
    "        print(\"The volume is \",v)\n",
    "    def perimeter(self):\n",
    "        l=int(input(\"Enter length\"))\n",
    "        b=int(input(\"Enter breadth\"))\n",
    "        p=2*(l+b)\n",
    "        print(\"The perimeter is \",p)\n",
    "\n",
    "obj=Cal()\n",
    "obj.area()\n",
    "obj.volume()\n",
    "obj.perimeter()"
   ]
  },
  {
   "cell_type": "code",
   "execution_count": 7,
   "metadata": {},
   "outputs": [
    {
     "name": "stdout",
     "output_type": "stream",
     "text": [
      "2940\n",
      "Area= 210\n",
      "The volume= 2940\n"
     ]
    }
   ],
   "source": [
    "# defining the __init__() method\n",
    "class Cal:\n",
    "    def __init__(self,l,b,h):\n",
    "        self.l=l\n",
    "        self.b=b\n",
    "        self.h=h\n",
    "        # v=self.l*self.b*self.h\n",
    "        # print(v)\n",
    "    def area(self):\n",
    "        a=self.l*self.b\n",
    "        print(\"Area=\",a)\n",
    "    def volume(self):\n",
    "        v=self.l*self.b*self.h\n",
    "        print(\"The volume=\",v)\n",
    "\n",
    "obj=Cal(10,21,14)\n",
    "obj.area()\n",
    "obj.volume()"
   ]
  },
  {
   "cell_type": "code",
   "execution_count": 10,
   "metadata": {},
   "outputs": [
    {
     "name": "stdout",
     "output_type": "stream",
     "text": [
      "Area= 144\n",
      "volume= 60\n"
     ]
    }
   ],
   "source": [
    "class Area:\n",
    "    def __init__(self,l,b):\n",
    "        self.l=l\n",
    "        self.b=b\n",
    "        \n",
    "        # v=self.l*self.b*self.h\n",
    "        # print(v)\n",
    "    def area(self):\n",
    "        a=self.l*self.b\n",
    "        print(\"Area=\",a)\n",
    "class Volume:\n",
    "    def __init__(self,l,b,h):\n",
    "        self.l=l\n",
    "        self.b=b\n",
    "        self.h=h\n",
    "    def volume(self):\n",
    "        v=self.l*self.b*self.h\n",
    "        print(\"volume=\",v)\n",
    "\n",
    "obj1=Area(12,12)\n",
    "obj1.area()\n",
    "\n",
    "obj2=Volume(3,4,5)\n",
    "obj2.volume()\n"
   ]
  },
  {
   "cell_type": "code",
   "execution_count": 14,
   "metadata": {},
   "outputs": [
    {
     "name": "stdout",
     "output_type": "stream",
     "text": [
      "<class 'str'>\n",
      "<class '__main__.Info'>\n",
      "Bikash\n",
      "Hello world . I am Bikash. I am from Surkhet. I am 23\n",
      "Bikash\n",
      "Bikash\n"
     ]
    }
   ],
   "source": [
    "# __str__() method\n",
    "class Info:\n",
    "    def __init__(self,name,age,add):\n",
    "        self.name=name\n",
    "        self.age=age\n",
    "        self.add=add\n",
    "    def __str__(self):\n",
    "        return self.name\n",
    "    def information(self):\n",
    "        data=f\"Hello world . I am {self.name}. I am from {self.add}. I am {self.age}\"\n",
    "        return data\n",
    "\n",
    "obj=Info(\"Bikash\",\"23\",\"Surkhet\")\n",
    "print(type(obj.information()))\n",
    "print(type(obj))\n",
    "\n",
    "print(obj)\n",
    "print(obj.information())\n",
    "print(obj.__str__())\n",
    "print(str(obj))"
   ]
  }
 ],
 "metadata": {
  "kernelspec": {
   "display_name": "Python 3.10.4 64-bit",
   "language": "python",
   "name": "python3"
  },
  "language_info": {
   "codemirror_mode": {
    "name": "ipython",
    "version": 3
   },
   "file_extension": ".py",
   "mimetype": "text/x-python",
   "name": "python",
   "nbconvert_exporter": "python",
   "pygments_lexer": "ipython3",
   "version": "3.10.4"
  },
  "orig_nbformat": 4,
  "vscode": {
   "interpreter": {
    "hash": "916dbcbb3f70747c44a77c7bcd40155683ae19c65e1c03b4aa3499c5328201f1"
   }
  }
 },
 "nbformat": 4,
 "nbformat_minor": 2
}
