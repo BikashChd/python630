{
 "cells": [
  {
   "cell_type": "code",
   "execution_count": 1,
   "metadata": {},
   "outputs": [],
   "source": [
    "# function\n",
    "    # pre defined \n",
    "    # user defined \n"
   ]
  },
  {
   "cell_type": "code",
   "execution_count": 2,
   "metadata": {},
   "outputs": [],
   "source": [
    "# per defind \n",
    "# print()\n",
    "# int()\n",
    "# float()\n",
    "# str()\n",
    "# list()\n",
    "# tuple()\n",
    "# dict()\n",
    "# set()"
   ]
  },
  {
   "cell_type": "code",
   "execution_count": 3,
   "metadata": {},
   "outputs": [],
   "source": [
    "# user defined \n",
    "# def <function_name>(<arguments>):\n",
    "#     <statements>\n",
    "#     return <value>"
   ]
  },
  {
   "cell_type": "code",
   "execution_count": 6,
   "metadata": {},
   "outputs": [
    {
     "name": "stdout",
     "output_type": "stream",
     "text": [
      "Hello World\n"
     ]
    }
   ],
   "source": [
    "def hello(): # create a function\n",
    "    print(\"Hello World\")\n",
    "hello() # calling the function"
   ]
  },
  {
   "cell_type": "code",
   "execution_count": 9,
   "metadata": {},
   "outputs": [
    {
     "name": "stdout",
     "output_type": "stream",
     "text": [
      "Area of the rectangle: 168\n",
      "Vulome of the rectangle: 2352\n"
     ]
    }
   ],
   "source": [
    "from cv2 import rectangle\n",
    "\n",
    "\n",
    "def cal():\n",
    "    l = int(input(\"Enter the length of the rectangle: \")) # local variable\n",
    "    b = int(input(\"Enter the breadth of the rectangle: \")) # local variable\n",
    "    h = int(input(\"Enter the height of the rectangle: \")) # local variable can be used inside the function\n",
    "    area = l * b # local variable\n",
    "    Volume = l * b * h # local variable\n",
    "    print(\"Area of the rectangle:\",area)\n",
    "    print(\"Volume of the rectangle:\",Volume)\n",
    "cal()"
   ]
  },
  {
   "cell_type": "code",
   "execution_count": 12,
   "metadata": {},
   "outputs": [
    {
     "name": "stdout",
     "output_type": "stream",
     "text": [
      "The area of the recatngle: 2340 cm2\n"
     ]
    }
   ],
   "source": [
    "l = int(input(\"Enter the length of the rectangle: \"))  # Global variable\n",
    "b = int(input(\"Enter the breadth of the rectangle: \"))  # Global variable can be used in any function\n",
    "def cal():\n",
    "    area = l * b # local variable\n",
    "    print(\"The area of the recatngle:\",area, \"cm2\")\n",
    "cal()"
   ]
  },
  {
   "cell_type": "code",
   "execution_count": 13,
   "metadata": {},
   "outputs": [],
   "source": [
    "# funtion without argument and no return type\n",
    "# funtion with argument and no return type\n",
    "# funtion without argument and return type\n",
    "# funtion with argument and return type"
   ]
  },
  {
   "cell_type": "code",
   "execution_count": 15,
   "metadata": {},
   "outputs": [
    {
     "name": "stdout",
     "output_type": "stream",
     "text": [
      "The area of the rectangle: 156 cm2\n"
     ]
    }
   ],
   "source": [
    "# function with argument and no return type\n",
    "def cal (l,b): # funtion with parameter and return type\n",
    "    a = l * b\n",
    "    print(\"The area of the rectangle:\",a, \"cm2\")\n",
    "l = int(input(\"Enter the length of the rectangle: \")) # local variable can be used inside the function\n",
    "b = int(input(\"Enter the breadth of the rectangle: \"))  # local variable can be used inside the function \n",
    "cal(l,b) # calling the function with argument and return type "
   ]
  },
  {
   "cell_type": "code",
   "execution_count": 17,
   "metadata": {},
   "outputs": [
    {
     "name": "stdout",
     "output_type": "stream",
     "text": [
      "Hello I am Dilip Thapa and I am 24 years old. I live in Lamki\n"
     ]
    }
   ],
   "source": [
    "# function with argument and no return type\n",
    "def info(name,age,add): \n",
    "    x = f\"Hello I am {name} and I am {age} years old. I live in {add}\" # formating string using f string\n",
    "    print(x)\n",
    "name = input(\"Enter your name: \")\n",
    "age = int(input(\"Enter your age: \"))\n",
    "add = input(\"Enter your address: \")\n",
    "info(name,age,add)"
   ]
  },
  {
   "cell_type": "code",
   "execution_count": 20,
   "metadata": {},
   "outputs": [
    {
     "name": "stdout",
     "output_type": "stream",
     "text": [
      "C\n",
      "C++\n",
      "Java\n",
      "Ruby\n",
      "Python\n"
     ]
    }
   ],
   "source": [
    "def info(language = \"Python\"):\n",
    "    print(language)\n",
    "info(\"C\") # sending argument to the function it will take the default value\n",
    "info(\"C++\")\n",
    "info(\"Java\")\n",
    "info(\"Ruby\")\n",
    "info()"
   ]
  },
  {
   "cell_type": "code",
   "execution_count": 22,
   "metadata": {},
   "outputs": [
    {
     "data": {
      "text/plain": [
       "'Hello World'"
      ]
     },
     "execution_count": 22,
     "metadata": {},
     "output_type": "execute_result"
    }
   ],
   "source": [
    "# function without argument and return type\n",
    "def hello():\n",
    "    x = \"Hello World\"\n",
    "    return x # return value\n",
    "hello()"
   ]
  },
  {
   "cell_type": "code",
   "execution_count": 23,
   "metadata": {},
   "outputs": [
    {
     "name": "stdout",
     "output_type": "stream",
     "text": [
      "Hello World\n"
     ]
    }
   ],
   "source": [
    "# function without argument and return type\n",
    "def hello():\n",
    "    x = \"Hello World\"\n",
    "    return x  # return value\n",
    "\n",
    "\n",
    "a = hello()\n",
    "print(a)"
   ]
  },
  {
   "cell_type": "code",
   "execution_count": 24,
   "metadata": {},
   "outputs": [
    {
     "name": "stdout",
     "output_type": "stream",
     "text": [
      "('Hello', 'World')\n"
     ]
    }
   ],
   "source": [
    "# function without argument and return type\n",
    "def hello():\n",
    "    x = \"Hello\" \n",
    "    y = \"World\"\n",
    "    return x, y  # return value\n",
    "\n",
    "\n",
    "a = hello()\n",
    "print(a)"
   ]
  },
  {
   "cell_type": "code",
   "execution_count": 28,
   "metadata": {},
   "outputs": [
    {
     "name": "stdout",
     "output_type": "stream",
     "text": [
      "Area of the rectangle: 168\n",
      "Volume of the rectangle: 12\n"
     ]
    }
   ],
   "source": [
    "def cal():\n",
    "    l = int(input(\"Enter the length of the rectangle: \")) # local variable\n",
    "    b = int(input(\"Enter the breadth of the rectangle: \")) # local variable\n",
    "    h = int(input(\"Enter the height of the rectangle: \")) # local variable \n",
    "    \n",
    "    a = l * b # local variable\n",
    "    v = l * b * h # local variable\n",
    "    return a, b # return value\n",
    "area, volume = cal() # return value can be assigned to multiple variables\n",
    "print(\"Area of the rectangle:\",area)    # print the value of the variable\n",
    "print(\"Volume of the rectangle:\",volume)"
   ]
  },
  {
   "cell_type": "code",
   "execution_count": 30,
   "metadata": {},
   "outputs": [
    {
     "name": "stdout",
     "output_type": "stream",
     "text": [
      "Area of the rectangle: 156\n",
      "Volume of the rectangle: 22620\n"
     ]
    }
   ],
   "source": [
    "# function with argument and return type\n",
    "def cal(l,b,h):\n",
    "    a = l * b # local variable\n",
    "    v = l * b * h # local variable\n",
    "    return a, v # return value\n",
    "\n",
    "\n",
    "l = int(input(\"Enter the length of the rectangle: \"))  # local variable\n",
    "b = int(input(\"Enter the breadth of the rectangle: \"))  # local variable\n",
    "h = int(input(\"Enter the height of the rectangle: \"))  # local variable\n",
    "area, volume = cal(l,b,h) # return value can be assigned to multiple variables and can be used outside the function\n",
    "print(\"Area of the rectangle:\",area)    # print the value of the variable\n",
    "print(\"Volume of the rectangle:\",volume)"
   ]
  },
  {
   "cell_type": "code",
   "execution_count": null,
   "metadata": {},
   "outputs": [
    {
     "ename": "",
     "evalue": "",
     "output_type": "error",
     "traceback": [
      "\u001b[1;31mCanceled future for execute_request message before replies were done"
     ]
    },
    {
     "ename": "",
     "evalue": "",
     "output_type": "error",
     "traceback": [
      "\u001b[1;31mThe Kernel crashed while executing code in the the current cell or a previous cell. Please review the code in the cell(s) to identify a possible cause of the failure. Click <a href='https://aka.ms/vscodeJupyterKernelCrash'>here</a> for more info. View Jupyter <a href='command:jupyter.viewOutput'>log</a> for further details."
     ]
    }
   ],
   "source": [
    "def hello():\n",
    "    \n",
    "    print(\"Hello World\")\n",
    "    hello()\n",
    "    \n",
    "hello()"
   ]
  },
  {
   "cell_type": "code",
   "execution_count": 3,
   "metadata": {},
   "outputs": [
    {
     "name": "stdout",
     "output_type": "stream",
     "text": [
      "Hello World\n",
      "Hello World\n"
     ]
    }
   ],
   "source": [
    "def hello():\n",
    "\n",
    "    print(\"Hello World\")\n",
    "    x = input(\"Enter y for more print: \")\n",
    "    if x == \"y\":\n",
    "        hello()\n",
    "hello()\n"
   ]
  },
  {
   "cell_type": "code",
   "execution_count": 5,
   "metadata": {},
   "outputs": [
    {
     "name": "stdout",
     "output_type": "stream",
     "text": [
      "si: 0.56\n"
     ]
    }
   ],
   "source": [
    "def hello():\n",
    "    p = int(input(\"Enter the number of princpal: \"))\n",
    "    t = int(input(\"Enter the number of times: \"))\n",
    "    r = int(input(\"Enter the number of rat: \"))\n",
    "    si = p*t*r/100\n",
    "    print(\"si:\",si)\n",
    "    x = input(\"Enter y for more print: \")\n",
    "    if x == \"y\":\n",
    "        hello()\n",
    "\n",
    "\n",
    "hello()\n"
   ]
  },
  {
   "cell_type": "code",
   "execution_count": null,
   "metadata": {},
   "outputs": [],
   "source": []
  }
 ],
 "metadata": {
  "kernelspec": {
   "display_name": "Python 3.10.5 64-bit",
   "language": "python",
   "name": "python3"
  },
  "language_info": {
   "codemirror_mode": {
    "name": "ipython",
    "version": 3
   },
   "file_extension": ".py",
   "mimetype": "text/x-python",
   "name": "python",
   "nbconvert_exporter": "python",
   "pygments_lexer": "ipython3",
   "version": "3.10.5"
  },
  "orig_nbformat": 4,
  "vscode": {
   "interpreter": {
    "hash": "369f2c481f4da34e4445cda3fffd2e751bd1c4d706f27375911949ba6bb62e1c"
   }
  }
 },
 "nbformat": 4,
 "nbformat_minor": 2
}
