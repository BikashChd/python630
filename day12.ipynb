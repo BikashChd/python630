{
 "cells": [
  {
   "cell_type": "markdown",
   "metadata": {},
   "source": [
    "# file handling in python\n"
   ]
  },
  {
   "cell_type": "code",
   "execution_count": null,
   "metadata": {},
   "outputs": [],
   "source": [
    "# file handling\n",
    "#file=open(<file_name>,<modes>)\n",
    "#file.close()"
   ]
  },
  {
   "cell_type": "markdown",
   "metadata": {},
   "source": [
    "# modes\n",
    "# r-> read\n",
    "# w->write \n",
    "# a->append\n",
    "# x-> create"
   ]
  },
  {
   "cell_type": "code",
   "execution_count": null,
   "metadata": {},
   "outputs": [],
   "source": [
    "# we can also open the file as:\n",
    "# with open(<file_name>,<modes>) as file:\n",
    "#   <operation>"
   ]
  },
  {
   "cell_type": "code",
   "execution_count": 2,
   "metadata": {},
   "outputs": [
    {
     "name": "stdout",
     "output_type": "stream",
     "text": [
      "The file  you are creating already exist\n"
     ]
    }
   ],
   "source": [
    "# creating the file\n",
    "try:\n",
    "    b=open('data.txt','x')\n",
    "    b.close()       #after opening the file it must be closed so close function is used.\n",
    "except:\n",
    "    print(\"The file  you are creating already exist\")"
   ]
  },
  {
   "cell_type": "code",
   "execution_count": 2,
   "metadata": {},
   "outputs": [
    {
     "name": "stdout",
     "output_type": "stream",
     "text": [
      "<class 'str'>\n",
      "Hello world\n",
      "Hello bikash\n",
      "Hello sathi\n",
      "Hello mitra\n",
      "Hello anyone\n",
      "Hello friend\n",
      "Hello world \n",
      "Hello world \n",
      "Hello world \n",
      "Hello world \n"
     ]
    }
   ],
   "source": [
    "#reading the content of the given file\n",
    "b=open('data.txt','r')\n",
    "a=b.read()  #The read function returns the content of the given file.\n",
    "print(type(a)) # the data type of the content returned by the read function is of string type.\n",
    "print(a)\n",
    "b.close()"
   ]
  },
  {
   "cell_type": "code",
   "execution_count": 3,
   "metadata": {},
   "outputs": [
    {
     "name": "stdout",
     "output_type": "stream",
     "text": [
      "['Hello world', 'Hello bikash', 'Hello sathi', 'Hello mitra', 'Hello anyone', 'Hello friend', 'Hello world ', 'Hello world ', 'Hello world ', 'Hello world ']\n"
     ]
    }
   ],
   "source": [
    "# displaying the content of the file in list form\n",
    "y=a.split('\\n')\n",
    "print(y)"
   ]
  },
  {
   "cell_type": "code",
   "execution_count": 7,
   "metadata": {},
   "outputs": [
    {
     "data": {
      "text/plain": [
       "'Hello mitra'"
      ]
     },
     "execution_count": 7,
     "metadata": {},
     "output_type": "execute_result"
    }
   ],
   "source": [
    "# accessing the specific line from the given file\n",
    "line=int(input(\"Enter the line number\"))\n",
    "y[line-1]"
   ]
  },
  {
   "cell_type": "code",
   "execution_count": 8,
   "metadata": {},
   "outputs": [],
   "source": [
    "# writing in a file\n",
    "c=open('data1.txt','w')\n",
    "x=\"hello world  I am python\"\n",
    "c.write(x)  #The write function write the parameter passed inside it to the specific file\n",
    "c.close()"
   ]
  },
  {
   "cell_type": "code",
   "execution_count": 11,
   "metadata": {},
   "outputs": [
    {
     "name": "stdout",
     "output_type": "stream",
     "text": [
      "momo 1 100 100 \n",
      "chowmein  2 100 200 \n",
      "\n"
     ]
    }
   ],
   "source": [
    "# creating billing using file handling\n",
    "bill=str()\n",
    "n=int(input(\"Enter the number of item\"))\n",
    "for i in range(n):\n",
    "    name=input(\"Enter the name of item\")\n",
    "    price=int(input(\"Enter price=\"))\n",
    "    quantity=int(input(\"Enter the number of quantity\"))\n",
    "    total=price*quantity\n",
    "    data=f\"{name} {price} {quantity} {total}\\n\"\n",
    "    bill=bill+data\n",
    "print(bill)\n",
    "\n",
    "b=open('bill.txt','w')\n",
    "b.write(bill)\n",
    "b.close()"
   ]
  },
  {
   "cell_type": "code",
   "execution_count": 21,
   "metadata": {},
   "outputs": [
    {
     "name": "stdout",
     "output_type": "stream",
     "text": [
      "kd 2 1000 2000\n",
      "dilip 1 1 1 1\n",
      "\n"
     ]
    }
   ],
   "source": [
    "bill=str()\n",
    "n=int(input(\"Enter the number of item\"))\n",
    "for i in range(n):\n",
    "    name=input(\"Enter the name of item\")\n",
    "    price=int(input(\"Enter price=\"))\n",
    "    quantity=int(input(\"Enter the number of quantity\"))\n",
    "    total=price*quantity\n",
    "    data=f\"{name} {price} {quantity} {total}\\n\"\n",
    "    bill=bill+data\n",
    "print(bill)\n",
    "\n",
    "b=open('bill.txt','a')\n",
    "b.write(bill)\n",
    "b.close()"
   ]
  },
  {
   "cell_type": "code",
   "execution_count": 22,
   "metadata": {},
   "outputs": [
    {
     "name": "stdout",
     "output_type": "stream",
     "text": [
      "momo 1 100 100 \n",
      "chowmein  2 100 200 \n",
      "sprite 2 50 100 \n",
      "fanta 2 60 120 \n",
      "kd 2 1000 2000\n",
      "dilip 1 1 1 1\n",
      "\n"
     ]
    }
   ],
   "source": [
    "d=open ('bill.txt','r')\n",
    "x=d.read()\n",
    "print(x)\n",
    "d.close()"
   ]
  },
  {
   "cell_type": "code",
   "execution_count": 23,
   "metadata": {},
   "outputs": [
    {
     "data": {
      "text/plain": [
       "['momo 1 100 100 ',\n",
       " 'chowmein  2 100 200 ',\n",
       " 'sprite 2 50 100 ',\n",
       " 'fanta 2 60 120 ',\n",
       " 'kd 2 1000 2000',\n",
       " 'dilip 1 1 1 1']"
      ]
     },
     "execution_count": 23,
     "metadata": {},
     "output_type": "execute_result"
    }
   ],
   "source": [
    "data=x.split('\\n')[0:-1]\n",
    "data"
   ]
  },
  {
   "cell_type": "code",
   "execution_count": 25,
   "metadata": {},
   "outputs": [
    {
     "data": {
      "text/plain": [
       "[['momo', '1', '100', '100'],\n",
       " ['chowmein', '2', '100', '200'],\n",
       " ['sprite', '2', '50', '100'],\n",
       " ['fanta', '2', '60', '120'],\n",
       " ['kd', '2', '1000', '2000'],\n",
       " ['dilip', '1', '1', '1', '1']]"
      ]
     },
     "execution_count": 25,
     "metadata": {},
     "output_type": "execute_result"
    }
   ],
   "source": [
    "# creating list from the content of file\n",
    "final_data=[]\n",
    "for i in data:\n",
    "    y=i.split()\n",
    "    final_data.append(y)\n",
    "final_data"
   ]
  },
  {
   "cell_type": "code",
   "execution_count": 27,
   "metadata": {},
   "outputs": [
    {
     "name": "stdout",
     "output_type": "stream",
     "text": [
      "Total Amount 2521\n"
     ]
    }
   ],
   "source": [
    "totAmount=0\n",
    "for i in final_data:\n",
    "    totAmount=totAmount+int(i[-1])\n",
    "print(\"Total Amount\",totAmount)"
   ]
  },
  {
   "cell_type": "code",
   "execution_count": 28,
   "metadata": {},
   "outputs": [
    {
     "name": "stdout",
     "output_type": "stream",
     "text": [
      "egg ,2,30,60\n",
      "chicken,1,400,400\n",
      "\n"
     ]
    }
   ],
   "source": [
    "# creating the file in csv format\n",
    "bill=str()\n",
    "n=int(input(\"Enter the number of item\"))\n",
    "for i in range(n):\n",
    "    name=input(\"Enter the name of item\")\n",
    "    price=int(input(\"Enter price=\"))\n",
    "    quantity=int(input(\"Enter the number of quantity\"))\n",
    "    total=price*quantity\n",
    "    data=f\"{name},{price},{quantity},{total}\\n\"\n",
    "    bill=bill+data\n",
    "print(bill)\n",
    "\n",
    "b=open('bill.csv','a')\n",
    "b.write('Name,Price,Quantity,Total \\n')\n",
    "b.write(bill)\n",
    "b.close()"
   ]
  },
  {
   "cell_type": "code",
   "execution_count": 30,
   "metadata": {},
   "outputs": [
    {
     "name": "stdout",
     "output_type": "stream",
     "text": [
      "The file does not exist\n"
     ]
    }
   ],
   "source": [
    "# deleting a file\n",
    "import os\n",
    "try:\n",
    "    os.remove('data1.txt')\n",
    "except:\n",
    "    print(\"The file does not exist\")"
   ]
  },
  {
   "cell_type": "code",
   "execution_count": 33,
   "metadata": {},
   "outputs": [
    {
     "data": {
      "text/plain": [
       "'newFile'"
      ]
     },
     "execution_count": 33,
     "metadata": {},
     "output_type": "execute_result"
    }
   ],
   "source": [
    "import shutil as s\n",
    "s.copy('bill.txt','newFile')   #copy('existing location','new location')"
   ]
  },
  {
   "cell_type": "code",
   "execution_count": 31,
   "metadata": {},
   "outputs": [
    {
     "data": {
      "text/plain": [
       "'/media/bikash/201A4BFD1A4BCE8A/BroadwayInfosys/PythonWithAI'"
      ]
     },
     "execution_count": 31,
     "metadata": {},
     "output_type": "execute_result"
    }
   ],
   "source": [
    "pwd\n"
   ]
  }
 ],
 "metadata": {
  "kernelspec": {
   "display_name": "Python 3.10.4 64-bit",
   "language": "python",
   "name": "python3"
  },
  "language_info": {
   "codemirror_mode": {
    "name": "ipython",
    "version": 3
   },
   "file_extension": ".py",
   "mimetype": "text/x-python",
   "name": "python",
   "nbconvert_exporter": "python",
   "pygments_lexer": "ipython3",
   "version": "3.10.4"
  },
  "orig_nbformat": 4,
  "vscode": {
   "interpreter": {
    "hash": "916dbcbb3f70747c44a77c7bcd40155683ae19c65e1c03b4aa3499c5328201f1"
   }
  }
 },
 "nbformat": 4,
 "nbformat_minor": 2
}
