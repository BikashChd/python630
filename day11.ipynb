{
 "cells": [
  {
   "cell_type": "markdown",
   "metadata": {},
   "source": [
    "# Dictionary\n",
    "# -> indexed\n",
    "# -> ordered\n",
    "# ->multiple values\n",
    "# ->mutable"
   ]
  },
  {
   "cell_type": "code",
   "execution_count": 1,
   "metadata": {},
   "outputs": [
    {
     "data": {
      "text/plain": [
       "dict"
      ]
     },
     "execution_count": 1,
     "metadata": {},
     "output_type": "execute_result"
    }
   ],
   "source": [
    "# defining dictionary\n",
    "d={}\n",
    "d=dict()\n",
    "type(d)"
   ]
  },
  {
   "cell_type": "code",
   "execution_count": 5,
   "metadata": {},
   "outputs": [
    {
     "name": "stdout",
     "output_type": "stream",
     "text": [
      "Ball\n"
     ]
    },
    {
     "data": {
      "text/plain": [
       "4"
      ]
     },
     "execution_count": 5,
     "metadata": {},
     "output_type": "execute_result"
    }
   ],
   "source": [
    "#  creating a dictionary\n",
    "d={\n",
    "    'a': \"Apple\",   #<key>:'value'\n",
    "    'b': \"Ball\",\n",
    "    'Phone': 9848004644,\n",
    "    'age': 24\n",
    "}\n",
    "print(d['b'])\n",
    "len(d)"
   ]
  },
  {
   "cell_type": "code",
   "execution_count": 8,
   "metadata": {},
   "outputs": [
    {
     "data": {
      "text/plain": [
       "{'a': 'Kd', 'b': 'bikash', 'c': 'charan', 'd': 'dilip'}"
      ]
     },
     "execution_count": 8,
     "metadata": {},
     "output_type": "execute_result"
    }
   ],
   "source": [
    "# dictionary creation\n",
    "d=dict()\n",
    "d['a']='Kd'\n",
    "d['b']='bikash'\n",
    "d['c']='charan'\n",
    "d['d']='dilip'\n",
    "d"
   ]
  },
  {
   "cell_type": "code",
   "execution_count": 10,
   "metadata": {},
   "outputs": [
    {
     "name": "stdout",
     "output_type": "stream",
     "text": [
      "{'malati': 9868, 'dilip': 67838}\n"
     ]
    }
   ],
   "source": [
    "d=dict()\n",
    "n=int(input(\"Enter the number:\"))\n",
    "for i in range(n):\n",
    "    name=input(\"Enter the name=\")\n",
    "    phone=int(input(\"Enter the number\"))\n",
    "    d[name]=phone\n",
    "print(d)"
   ]
  },
  {
   "cell_type": "code",
   "execution_count": 11,
   "metadata": {},
   "outputs": [
    {
     "name": "stdout",
     "output_type": "stream",
     "text": [
      "malati\n",
      "dilip\n"
     ]
    }
   ],
   "source": [
    "#  reading key from dictionary\n",
    "for i in d:\n",
    "    print(i)"
   ]
  },
  {
   "cell_type": "code",
   "execution_count": 12,
   "metadata": {},
   "outputs": [
    {
     "name": "stdout",
     "output_type": "stream",
     "text": [
      "9868\n",
      "67838\n"
     ]
    }
   ],
   "source": [
    "#  reading value from dictionary\n",
    "for i in d.values():\n",
    "    print(i)"
   ]
  },
  {
   "cell_type": "code",
   "execution_count": 13,
   "metadata": {},
   "outputs": [
    {
     "name": "stdout",
     "output_type": "stream",
     "text": [
      "('malati', 9868)\n",
      "('dilip', 67838)\n"
     ]
    }
   ],
   "source": [
    "# reading key and values from dictionary\n",
    "for i in d.items():\n",
    "    print(i)"
   ]
  },
  {
   "cell_type": "code",
   "execution_count": 14,
   "metadata": {},
   "outputs": [
    {
     "name": "stdout",
     "output_type": "stream",
     "text": [
      "[('malati', 9868), ('dilip', 67838)]\n"
     ]
    }
   ],
   "source": [
    "# while converting dictionary into list the key value pair inside the dictionary become tuple\n",
    "l=[]\n",
    "for i in d.items():\n",
    "    l.append(i)\n",
    "\n",
    "print(l)"
   ]
  },
  {
   "cell_type": "code",
   "execution_count": 15,
   "metadata": {},
   "outputs": [
    {
     "data": {
      "text/plain": [
       "{'malati': 9868, 'dilip': 67838}"
      ]
     },
     "execution_count": 15,
     "metadata": {},
     "output_type": "execute_result"
    }
   ],
   "source": [
    "# converting the list into dictionary\n",
    "dict(l)"
   ]
  },
  {
   "cell_type": "code",
   "execution_count": 16,
   "metadata": {},
   "outputs": [
    {
     "data": {
      "text/plain": [
       "{'malati': 1234, 'dilip': 67838}"
      ]
     },
     "execution_count": 16,
     "metadata": {},
     "output_type": "execute_result"
    }
   ],
   "source": [
    "# updating the item key value inside the dicgtionary\n",
    "d['malati']=1234    #here the value of key malati is changed from 9868 to 1234\n",
    "d"
   ]
  },
  {
   "cell_type": "code",
   "execution_count": 17,
   "metadata": {},
   "outputs": [
    {
     "name": "stdout",
     "output_type": "stream",
     "text": [
      "{'malati': 1234}\n"
     ]
    }
   ],
   "source": [
    "# deleting the key value pair from dictionary using del()\n",
    "del d['dilip']\n",
    "print(d)\n",
    "\n",
    "\n"
   ]
  },
  {
   "cell_type": "code",
   "execution_count": 19,
   "metadata": {},
   "outputs": [
    {
     "data": {
      "text/plain": [
       "{'malati': 1234}"
      ]
     },
     "execution_count": 19,
     "metadata": {},
     "output_type": "execute_result"
    }
   ],
   "source": [
    "# deleting the key value pair from dictionary using pop()\n",
    "a={'malati': 1234, 'dilip': 67838}\n",
    "a.pop('dilip')\n",
    "a"
   ]
  },
  {
   "cell_type": "code",
   "execution_count": 20,
   "metadata": {},
   "outputs": [
    {
     "name": "stdout",
     "output_type": "stream",
     "text": [
      "{'ram': [9847, 9474], 'shyam': [232, 123]}\n"
     ]
    }
   ],
   "source": [
    "# list inside dict\n",
    "d={\n",
    "    'ram':[9847,9474],\n",
    "    'shyam':[232,123]\n",
    "}\n",
    "print(d)"
   ]
  },
  {
   "cell_type": "code",
   "execution_count": 2,
   "metadata": {},
   "outputs": [
    {
     "data": {
      "text/plain": [
       "{'dilip': [123, 321], 'ram': [123, 456]}"
      ]
     },
     "execution_count": 2,
     "metadata": {},
     "output_type": "execute_result"
    }
   ],
   "source": [
    "d={}\n",
    "n=int(input(\"Enter n=\"))\n",
    "for i in range(n):\n",
    "    name=input(\"Enter name=\")\n",
    "    phnNum1=int(input(\"Enter ntc number\"))\n",
    "    phnNum2=int(input(\"Enter ncell number\"))\n",
    "    d[name]=[phnNum1,phnNum2]\n",
    "d"
   ]
  },
  {
   "cell_type": "code",
   "execution_count": 4,
   "metadata": {},
   "outputs": [
    {
     "data": {
      "text/plain": [
       "{'dilip': [123, 321], 'ram': [123, 456], 'kd': [12, 23]}"
      ]
     },
     "execution_count": 4,
     "metadata": {},
     "output_type": "execute_result"
    }
   ],
   "source": [
    "# adding new key value pair in dictionary\n",
    "d['kd']=[12,23]\n",
    "d"
   ]
  },
  {
   "cell_type": "code",
   "execution_count": 3,
   "metadata": {},
   "outputs": [
    {
     "data": {
      "text/plain": [
       "123"
      ]
     },
     "execution_count": 3,
     "metadata": {},
     "output_type": "execute_result"
    }
   ],
   "source": [
    "# accessing specific value of key \n",
    "d['ram'][0]"
   ]
  },
  {
   "cell_type": "code",
   "execution_count": 6,
   "metadata": {},
   "outputs": [
    {
     "data": {
      "text/plain": [
       "{'dilip': [123, 321], 'ram': [123, 456, 123, 123], 'kd': [12, 23]}"
      ]
     },
     "execution_count": 6,
     "metadata": {},
     "output_type": "execute_result"
    }
   ],
   "source": [
    "d['ram'].append(123)\n",
    "d"
   ]
  },
  {
   "cell_type": "code",
   "execution_count": 9,
   "metadata": {},
   "outputs": [
    {
     "data": {
      "text/plain": [
       "{'ram': {'ntc': 876, 'ncell': 4567}, 'shyam': {'ntc': 789, 'ncell': 565}}"
      ]
     },
     "execution_count": 9,
     "metadata": {},
     "output_type": "execute_result"
    }
   ],
   "source": [
    "# dictionary inside dictionary\n",
    "d=dict()\n",
    "d={\n",
    "    'ram':{'ntc':876,'ncell':4567},\n",
    "    'shyam':{'ntc':789,'ncell':565}\n",
    "}\n",
    "d"
   ]
  },
  {
   "cell_type": "code",
   "execution_count": 1,
   "metadata": {},
   "outputs": [
    {
     "name": "stdout",
     "output_type": "stream",
     "text": [
      "{'bikash': {'ntc': 9856, 'ncell': 4563}, 'hari': {'ntc': 6767, 'ncell': 987}}\n"
     ]
    }
   ],
   "source": [
    "# creating dictionary inside dictionary\n",
    "d={}\n",
    "n=int(input(\"Enter n=\"))\n",
    "for i in range(n):\n",
    "    name=input(\"Enter name\")\n",
    "    ntcNum=int(input(\"Enter ntc no\"))\n",
    "    ncellNum=int(input(\"Enter ncell number\"))\n",
    "    d[name]={'ntc':ntcNum,'ncell':ncellNum}\n",
    "print(d)"
   ]
  },
  {
   "cell_type": "code",
   "execution_count": null,
   "metadata": {},
   "outputs": [],
   "source": [
    "# Question : dictionary inside list and its CRUD operation\n"
   ]
  }
 ],
 "metadata": {
  "kernelspec": {
   "display_name": "Python 3.10.4 64-bit",
   "language": "python",
   "name": "python3"
  },
  "language_info": {
   "codemirror_mode": {
    "name": "ipython",
    "version": 3
   },
   "file_extension": ".py",
   "mimetype": "text/x-python",
   "name": "python",
   "nbconvert_exporter": "python",
   "pygments_lexer": "ipython3",
   "version": "3.10.4"
  },
  "orig_nbformat": 4,
  "vscode": {
   "interpreter": {
    "hash": "916dbcbb3f70747c44a77c7bcd40155683ae19c65e1c03b4aa3499c5328201f1"
   }
  }
 },
 "nbformat": 4,
 "nbformat_minor": 2
}
